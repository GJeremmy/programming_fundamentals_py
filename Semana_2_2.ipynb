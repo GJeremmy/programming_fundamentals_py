{
 "cells": [
  {
   "cell_type": "markdown",
   "metadata": {
    "slideshow": {
     "slide_type": "slide"
    }
   },
   "source": [
    "<center>\n",
    "<h1> Introducción a la programación con Python </h1>\n",
    "<h2> Alberto Mario Ceballos Arroyo </h2>\n",
    "<h2>Ingeniero de Sistemas </h2> \n",
    "</center>"
   ]
  },
  {
   "cell_type": "markdown",
   "metadata": {
    "slideshow": {
     "slide_type": "slide"
    }
   },
   "source": [
    "<center> <h1> Algunos aspectos metodológicos </h1> </center>\n",
    "\n",
    "- Para participar, preferiblemente escribir por el chat o levantar la mano (somos 150).\n",
    "\n",
    "- Recordemos que el temario está disponible si queremos adelantarnos un poco.\n",
    "\n",
    "- La evaluación es automática y se basa en los retos, el resto de actividades de la plataforma son opcionales pero muy recomendadas."
   ]
  },
  {
   "cell_type": "markdown",
   "metadata": {
    "slideshow": {
     "slide_type": "subslide"
    }
   },
   "source": [
    "<center> <img src=\"img/temario.png\"/> </center>"
   ]
  },
  {
   "cell_type": "markdown",
   "metadata": {
    "slideshow": {
     "slide_type": "subslide"
    }
   },
   "source": [
    "<center> <h1> Agenda de la semana 2 </h1> </center>\n",
    "\n",
    "- Día 1:\n",
    "    - Expresiones lógicas y relacionales.\n",
    "    - Indentación.\n",
    "    - Introducción a los condicionales.\n",
    "    - Instrucciones if-else.\n",
    "    \n",
    "- Día 2:\n",
    "    - Instrucciones if-else anidadas.\n",
    "    - Instrucción elif y casos.\n",
    "    - Ejercicios\n",
    "    \n",
    "- Día 3:\n",
    "    - Introducción a los ciclos.\n",
    "    - Ciclo while.\n",
    "    - Ciclo for.\n",
    "    - Introducción a los requisitos funcionales."
   ]
  },
  {
   "cell_type": "markdown",
   "metadata": {
    "slideshow": {
     "slide_type": "subslide"
    }
   },
   "source": [
    "<center> <h1> Enlaces de interés </h1> </center>\n",
    "\n",
    "- Enlace de la plataforma: https://lms.misiontic2022udea.com/login\n",
    "\n",
    "- Wiki de Python con muchos recursos en español: https://wiki.python.org/moin/SpanishLanguage\n",
    "\n",
    "- PDF con **muchos** ejercicios: https://www.editorialeidec.com/wp-content/uploads/2020/10/Algoritmos-resueltos-con-Python.pdf\n",
    "\n",
    "- Correo del docente: alceballosa@unal.edu.co \n",
    "\n",
    "- Correo de permanencia: permamenciamisiontic@udea.edu.co\n"
   ]
  },
  {
   "cell_type": "markdown",
   "metadata": {
    "slideshow": {
     "slide_type": "slide"
    }
   },
   "source": [
    "<center> <h1> Estructuras de ciclo</h1> </center>\n",
    "\n",
    "</br>\n",
    "\n",
    "- Estas estructuras, también conocidas como estructuras de iteración o de bucle, nos permiten repetir una o más instrucciones mientras que el resultado de evaluar una expresión lógica sea verdadero.\n",
    "\n",
    "- Hay dos tipos de estructura **ciclo**, la basada en la instrucción **while** y la basada en la instrucción **for**.\n",
    "\n",
    "- En ambos casos, el aspecto más importante es tener claro el propósito del ciclo que queremos elaborar, ya que podemos incurrir en errores como ciclos infinitos que impedirán el correcto funcionamiento de nuestros programas."
   ]
  },
  {
   "cell_type": "markdown",
   "metadata": {
    "slideshow": {
     "slide_type": "slide"
    }
   },
   "source": [
    "<center> <h1> La instrucción while </h1> </center>\n",
    "\n",
    "- Cuando se entra a un **while** (mientras) se evalúa una condición (expresión relacional o lógica). En caso de que sea verdadera, se ejecuta el bloque de código que contiene.\n",
    "\n",
    "- Cada vez que se llega al final del bloque, se vuelve a evaluar la condición. Si la condición sigue siendo cierta, se vuelve a ejecutar el bloque. Cada ejecución del bloque es considerada una *iteración*.\n",
    "\n",
    "- Cuando la condición no se cumple, el ciclo **while** termina y se ejecutan las instrucciones que siguen después del bloque de código."
   ]
  },
  {
   "cell_type": "markdown",
   "metadata": {
    "slideshow": {
     "slide_type": "subslide"
    }
   },
   "source": [
    "<center> <h1> La instrucción while </h1> </center>\n",
    "\n",
    "<center> <img width=\"750\" src=\"img/sem2_while.png\"></center>\n",
    "\n"
   ]
  },
  {
   "cell_type": "markdown",
   "metadata": {
    "slideshow": {
     "slide_type": "subslide"
    }
   },
   "source": [
    "<center> <h1> Consideraciones sobre el while </h1> </center>\n",
    "\n",
    "- La variable controladora del **while** debe definirse antes de entrar al ciclo.\n",
    "\n",
    "- Un while con una sola instrucción se puede escribir en una sola línea.\n",
    "\n",
    "- Al usar **while** es común el uso del operador +=, que abrevia la acción de sumar sobre el valor de una variable:\n",
    "\n",
    "```python \n",
    "x = x + 20 equivale a x+=20\n",
    "```"
   ]
  },
  {
   "cell_type": "markdown",
   "metadata": {
    "slideshow": {
     "slide_type": "slide"
    }
   },
   "source": [
    "<center> <h1> Ejemplos de ciclo while </h1> </center>\n",
    "\n",
    "- Elaborar un algoritmo que pida los nombres de los estudiantes de una clase y los salude a todos.\n",
    "- Determinar si un entero es primo o no."
   ]
  },
  {
   "cell_type": "code",
   "execution_count": null,
   "metadata": {
    "slideshow": {
     "slide_type": "fragment"
    }
   },
   "outputs": [],
   "source": [
    "nombre = input(\"Escriba el nombre del estudiante: \")\n",
    "while nombre != \"\":\n",
    "    print(\"Buenos días {}\".format(nombre))\n",
    "    nombre = input(\"Escriba el nombre del estudiante: \")"
   ]
  },
  {
   "cell_type": "code",
   "execution_count": null,
   "metadata": {
    "slideshow": {
     "slide_type": "fragment"
    }
   },
   "outputs": [],
   "source": [
    "# Tip: hallar el residuo de dividir x por todos los enteros desde 2 hasta\n",
    "# la raiz de x o hasta que algún residuo de igual a 0. \n",
    "# Estos cálculos implican generar un divisor, que representaremos con la variable i.\n"
   ]
  },
  {
   "cell_type": "markdown",
   "metadata": {
    "slideshow": {
     "slide_type": "subslide"
    }
   },
   "source": [
    "<center> <h1> Ejercicio de ciclo while </h1> </center>\n",
    "\n",
    "- Elaborar un algoritmo para determinar el aumento y el nuevo salario de todos los empleados de una empresa. Asuma que el aumento será del 10% y solamente se aplica si el salario actual es menor a 1000."
   ]
  },
  {
   "cell_type": "code",
   "execution_count": null,
   "metadata": {
    "slideshow": {
     "slide_type": "fragment"
    }
   },
   "outputs": [],
   "source": [
    "nombre = input(\"Ingrese el nombre del empleado: \")\n",
    "while nombre != \"\":\n",
    "    salario = int(input(f\"Ingrese el salario del empleado {nombre}: \"))\n",
    "    aumento = 0.\n",
    "    if salario < 1000:\n",
    "        aumento = salario * 0.1\n",
    "        nuevoSalario = salario + aumento\n",
    "    print(nombre, salario, aumento, nuevoSalario)\n",
    "    nombre = input(\"Ingrese el nombre del empleado: \")\n",
    "print(\"Actualización de salarios finalizada\")"
   ]
  },
  {
   "cell_type": "markdown",
   "metadata": {
    "slideshow": {
     "slide_type": "slide"
    }
   },
   "source": [
    "<center> <h1> Concepto de contador </h1> </center>\n",
    "\n",
    "\n",
    "Como lo indica su nombre, cuenta el número de ocurrencias de un evento dentro de un ciclo. Por ejemplo: la cantidad de números pares que encontramos en un ciclo.\n",
    "\n",
    "**Ejemplo:** construir un programa que lea un entero n > 0 y que calcule y cuente la cantidad de números divisibles por otro número k que hay entre 0 y n (inclusive)."
   ]
  },
  {
   "cell_type": "code",
   "execution_count": null,
   "metadata": {
    "slideshow": {
     "slide_type": "subslide"
    }
   },
   "outputs": [],
   "source": []
  },
  {
   "cell_type": "markdown",
   "metadata": {
    "slideshow": {
     "slide_type": "slide"
    }
   },
   "source": [
    "<center> <h1> Concepto de acumulador </h1> </center>\n",
    "\n",
    "\n",
    "Es una variable en la cual se lleva el total de un concepto específico en un ciclo, como la sumatoria o el factorial de una serie de números.\n",
    "\n",
    "**Ejemplo 1**: elaborar un programa para calcular y mostrar el factorial de un entero entrado por teclado.\n",
    "\n",
    "**Ejemplo 2**: diseñar un algoritmo que calcule la sumatoria de los números que hay entre 0 y un número n ingresado por teclado."
   ]
  },
  {
   "cell_type": "code",
   "execution_count": null,
   "metadata": {
    "slideshow": {
     "slide_type": "fragment"
    }
   },
   "outputs": [],
   "source": []
  },
  {
   "cell_type": "code",
   "execution_count": null,
   "metadata": {
    "slideshow": {
     "slide_type": "fragment"
    }
   },
   "outputs": [],
   "source": []
  },
  {
   "cell_type": "markdown",
   "metadata": {
    "slideshow": {
     "slide_type": "subslide"
    }
   },
   "source": [
    "<center> <h1> Concepto de promedio </h1> </center>\n",
    "\n",
    "Es el valor medio de un evento cuantificable. Se obtiene dividiendo un acumulador entre su respectivo contador. \n",
    "\n",
    "- Nota: los promedios se calculan después de que se ha terminado de ejecutar el ciclo **while**. Es un error común en los principiantes calcular promedios dentro del ciclo.\n",
    "    \n",
    "    \n",
    "**Ejemplo**: diseñar un algoritmo que calcule el promedio de los pesos de los estudiantes de una escuela que pesen entre 60 y 80 kilos."
   ]
  },
  {
   "cell_type": "code",
   "execution_count": null,
   "metadata": {
    "slideshow": {
     "slide_type": "subslide"
    }
   },
   "outputs": [],
   "source": []
  },
  {
   "cell_type": "markdown",
   "metadata": {
    "slideshow": {
     "slide_type": "slide"
    }
   },
   "source": [
    "<center> <h1> Ejercicio integrador: contador, acumulador y promedio </h1> </center>\n",
    "\n",
    "Elaborar un programa para determinar el nuevo salario de una persona, contando a cuántas se les hizo el cálculo, cuántas tuvieron un aumento mayor que cero, el total de salarios anteriores, el total de aumentos, el total de nuevos salarios, el promedio salarial antes y después del aumento y el promedio de aumentos."
   ]
  },
  {
   "cell_type": "code",
   "execution_count": null,
   "metadata": {
    "slideshow": {
     "slide_type": "subslide"
    }
   },
   "outputs": [],
   "source": []
  },
  {
   "cell_type": "markdown",
   "metadata": {
    "slideshow": {
     "slide_type": "slide"
    }
   },
   "source": [
    "<center> <h1> Ciclo while anidado </h1> </center>\n",
    "\n",
    "- Al igual que con los condicionales, habrá casos en los que necesitaremos anidar varios **while** para lograr nuestro objetivo.\n",
    "\n",
    "- Recordemos que la indentación es la que determina cuáles son las instrucciones que pertenecen a cada ciclo.\n",
    "\n",
    "- Para que se pueda continuar ejecutando un ciclo externo se deben haber terminado de ejecutar completamente sus ciclos internos. \n",
    "\n",
    "- Cada vez que continúa la ejecución de un ciclo externo, volverá a ejecutar totalmente sus ciclos internos."
   ]
  },
  {
   "cell_type": "markdown",
   "metadata": {
    "slideshow": {
     "slide_type": "subslide"
    }
   },
   "source": [
    "\n",
    "<center> <img width=\"450\" src=\"img/sem2_while_anidado.png\"></center>"
   ]
  },
  {
   "cell_type": "markdown",
   "metadata": {
    "slideshow": {
     "slide_type": "slide"
    }
   },
   "source": [
    "<center> <h1> Ejemplos del ciclo while anidado</h1> </center>\n",
    "\n",
    "- Mostrar todos los primos desde 3 hasta un entero n."
   ]
  },
  {
   "cell_type": "code",
   "execution_count": null,
   "metadata": {
    "slideshow": {
     "slide_type": "fragment"
    }
   },
   "outputs": [],
   "source": []
  },
  {
   "cell_type": "markdown",
   "metadata": {
    "slideshow": {
     "slide_type": "slide"
    }
   },
   "source": [
    "<center> <h1> Ejercicios con el ciclo while anidado</h1> </center>\n",
    "\n",
    "- Elaborar un algoritmo que lea un entero n y que calcule e imprima todas las tablas de multiplicar desde 1 hasta n, cada tabla desde 1 hasta 10."
   ]
  },
  {
   "cell_type": "code",
   "execution_count": null,
   "metadata": {
    "slideshow": {
     "slide_type": "subslide"
    }
   },
   "outputs": [],
   "source": []
  },
  {
   "cell_type": "markdown",
   "metadata": {
    "slideshow": {
     "slide_type": "slide"
    }
   },
   "source": [
    "<center> <h1> La instrucción for</h1> </center>\n",
    "\n",
    "- El **for** es una instrucción de iteración parecida al while, pero con casos de aplicación más específicos.\n",
    "\n",
    "- En general, se usa para ejecutar un bloque de código un número definido de veces.\n",
    "\n",
    "- En la instrucción se definen el valor inicial y final de la variable controladora del ciclo, así como la variación o el salto de la misma."
   ]
  },
  {
   "cell_type": "markdown",
   "metadata": {
    "slideshow": {
     "slide_type": "slide"
    }
   },
   "source": [
    "<center> <h1>Definir un for</h1> </center>\n",
    "\n",
    "- Para definir un **for** se escribe la palabra clave **for** seguida del identificador de una variable (digamos *i*), que tomará un valor en cada iteración. Luego se agrega la palabra clave **in**  y la función *range()*, y entre los paréntesis se ponen 3 parámetros numericos.\n",
    "\n",
    "- El primer valor es el valor inicial de *i*, el segundo valor será el valor final (**no inclusivo**) del intervalo que recorrerá *i*, el tercer valor será el salto que dará la variable *i* en cada iteración.\n",
    "\n",
    "- Similar al **while**, el **for** se ejecuta hasta que el valor de *i* llegue al final del rango (nuestra condición de iteración).\n",
    "\n",
    "- El condicional del **for** va seguido de dos puntos (:) y el bloque a ejecutar debe ir indentado.\n",
    "\n",
    "```python\n",
    "for i in range(inicio, fin, salto):\n",
    "    instrucciones_a_ejecutar_en_el_for\n",
    "\n",
    "```\n",
    "\n",
    "Nota: debido a la forma en que se define el **for**, no es posible llegar a ciclos infinitos salvo que manipulemos la variable controladora dentro del ciclo (una muy mala práctica).\n",
    "\n",
    "Nota 2: al igual que con el **while**, podemos escribir en una línea los **for** que tengan una sola instrucción."
   ]
  },
  {
   "cell_type": "markdown",
   "metadata": {
    "slideshow": {
     "slide_type": "subslide"
    }
   },
   "source": [
    "<center> <h1>Formas particulares de la instrucción for</h1> </center>\n",
    "\n",
    "El ciclo **for** (para) puede escribirse omitiendo dos de sus parámetros, el valor inicial (por defecto 0) y el salto (por defecto 1).\n",
    "\n",
    "- Si escribimos ```for i in range(10)```, las instrucciones del ciclo se ejecutarán 10 veces, ya que los valores de la variable *i* irán de 0 hasta 9.\n",
    "\n",
    "- En general, si escribimos ```for i in range(n)```, las instrucciones del ciclo se ejecuarán n veces, y los valores de la variable *i* irán desde 0 hasta n.\n",
    "\n",
    "\n",
    "- Si escribimos ```for i in range(1, 10, 2)```, las instrucciones del ciclo se ejecutarán nueve veces y los valores que tomará *i* serán desde 1 hasta 8.\n",
    "\n",
    "- En general, si escribimos ```for i in range(m, n, salto)```, con m < n, las instrucciones del ciclo se ejecutarán hasta (n - m)/salto veces. Los valores que tomará *i* estarán desde m hasta un valor máximo n - 1 (puede ser menor en función del salto)."
   ]
  },
  {
   "cell_type": "code",
   "execution_count": null,
   "metadata": {
    "slideshow": {
     "slide_type": "subslide"
    }
   },
   "outputs": [],
   "source": [
    "# programemos..."
   ]
  },
  {
   "cell_type": "markdown",
   "metadata": {
    "slideshow": {
     "slide_type": "slide"
    }
   },
   "source": [
    "<center> <h1> Consideraciones </h1> </center>\n",
    "\n",
    "- Todos los parámetros del **for** deben ser números enteros.\n",
    "- Todos los parámetros del **for** pueden ser literales o variables, o combinaciones de estos.\n",
    "- Si el salto es positivo, el valor final debe ser mayor que el valor inicial.\n",
    "- Si el salto es negativo, el valor inicial debe ser mayor que el valor final.\n",
    "- Si no se cumple ninguno de los casos anteriores, no se ejecuta ninguna instrucción.\n",
    "- El **for** también puede usarse para iterar sobre cadenas o estructuras de datos (lo veremos la próxima semana)."
   ]
  },
  {
   "cell_type": "code",
   "execution_count": 4,
   "metadata": {
    "slideshow": {
     "slide_type": "subslide"
    }
   },
   "outputs": [],
   "source": [
    "for i in range(0, 0):\n",
    "    print(i, end = \" \")"
   ]
  },
  {
   "cell_type": "code",
   "execution_count": null,
   "metadata": {
    "slideshow": {
     "slide_type": "fragment"
    }
   },
   "outputs": [],
   "source": [
    "for i in range(0, -10, 1):\n",
    "    print(i, end = \" \")"
   ]
  },
  {
   "cell_type": "code",
   "execution_count": null,
   "metadata": {
    "slideshow": {
     "slide_type": "fragment"
    }
   },
   "outputs": [],
   "source": [
    "for i in range(1, 10, -1):\n",
    "    print(i, end = \" \")"
   ]
  },
  {
   "cell_type": "code",
   "execution_count": 7,
   "metadata": {
    "slideshow": {
     "slide_type": "fragment"
    }
   },
   "outputs": [],
   "source": [
    "for i in range(1, 10.5, 1):\n",
    "    print(i, end = \" \")"
   ]
  },
  {
   "cell_type": "code",
   "execution_count": 8,
   "metadata": {
    "slideshow": {
     "slide_type": "fragment"
    }
   },
   "outputs": [
    {
     "name": "stdout",
     "output_type": "stream",
     "text": [
      "M\n",
      "I\n",
      "N\n",
      "T\n",
      "I\n",
      "C\n"
     ]
    }
   ],
   "source": [
    "for letra in \"MINTIC\":\n",
    "    print(i, end = \" \")"
   ]
  },
  {
   "cell_type": "markdown",
   "metadata": {
    "slideshow": {
     "slide_type": "slide"
    }
   },
   "source": [
    "<center> <h1> Ejemplos de ciclo for </h1> </center>\n",
    "\n",
    "- Calcular la suma de los enteros desde 1 hasta n.\n",
    "- Pedir por teclado el valor inicial, el valor final y el salto de un for. Imprimir todos los valores recorridos por el for.\n",
    "- Determinar si un entero es primo o no.\n",
    "- Imprimir de manera descendente los números entre un número m y un número n (m > n), con saltos de 2."
   ]
  },
  {
   "cell_type": "code",
   "execution_count": null,
   "metadata": {
    "slideshow": {
     "slide_type": "subslide"
    }
   },
   "outputs": [],
   "source": []
  },
  {
   "cell_type": "code",
   "execution_count": null,
   "metadata": {
    "slideshow": {
     "slide_type": "subslide"
    }
   },
   "outputs": [],
   "source": []
  },
  {
   "cell_type": "code",
   "execution_count": null,
   "metadata": {
    "slideshow": {
     "slide_type": "subslide"
    }
   },
   "outputs": [],
   "source": []
  },
  {
   "cell_type": "code",
   "execution_count": null,
   "metadata": {
    "slideshow": {
     "slide_type": "subslide"
    }
   },
   "outputs": [],
   "source": []
  },
  {
   "cell_type": "markdown",
   "metadata": {
    "slideshow": {
     "slide_type": "slide"
    }
   },
   "source": [
    "<center> <h1> Ejercicios de ciclo for anidado </h1> </center>\n",
    "\n",
    "<center> <img width=\"500\" src=\"img/sem2_ej_for.png\"> </center>"
   ]
  },
  {
   "cell_type": "code",
   "execution_count": null,
   "metadata": {
    "slideshow": {
     "slide_type": "subslide"
    }
   },
   "outputs": [],
   "source": []
  },
  {
   "cell_type": "code",
   "execution_count": null,
   "metadata": {
    "slideshow": {
     "slide_type": "subslide"
    }
   },
   "outputs": [],
   "source": []
  },
  {
   "cell_type": "code",
   "execution_count": null,
   "metadata": {
    "slideshow": {
     "slide_type": "subslide"
    }
   },
   "outputs": [],
   "source": []
  },
  {
   "cell_type": "code",
   "execution_count": null,
   "metadata": {
    "slideshow": {
     "slide_type": "subslide"
    }
   },
   "outputs": [],
   "source": []
  },
  {
   "cell_type": "markdown",
   "metadata": {
    "slideshow": {
     "slide_type": "slide"
    }
   },
   "source": [
    "<center> <h1> ¿Cuándo usar while y cuándo usar for? </h1> </center>\n",
    "\n",
    "En primer lugar, elaboremos el algoritmo para hacer las n tablas de multiplicar tal como lo hicimos con el while."
   ]
  },
  {
   "cell_type": "code",
   "execution_count": null,
   "metadata": {
    "slideshow": {
     "slide_type": "fragment"
    }
   },
   "outputs": [],
   "source": []
  },
  {
   "cell_type": "markdown",
   "metadata": {
    "slideshow": {
     "slide_type": "subslide"
    }
   },
   "source": [
    "- En general, vemos que el código utilizando **for** es más compacto, por lo que podemos decir que si nuestro ciclo se puede definir como una serie de pasos fija con una variación predefinida, el **for** es la mejor opción.\n",
    "\n",
    "- En cambio, si es necesario utilizar una operación para terminar el ciclo, se hará necesario utilizar **while** en vez de for. Un ejemplo de esto: nuestro programa para calcular primos.\n",
    "\n",
    "- Por otro lado, también se hace evidente que vamos a necesitar la misma cantidad de **for** o de **while** anidados para representar soluciones donde ambas opciones son válidas."
   ]
  },
  {
   "cell_type": "markdown",
   "metadata": {
    "slideshow": {
     "slide_type": "slide"
    }
   },
   "source": [
    "<center> <h1> Instrucciones continue y break </h1> </center>\n",
    "\n",
    "- Estas dos instrucciones facilitan el desarrollo de algoritmos con mayor complejidad.\n",
    "\n",
    "- La instrucción **continue** (continuar) interrumpe la ejecución de las instrucciones que vienen después del mismo en *una* iteración del ciclo **while** o **for**.\n",
    "\n",
    "- Mientras tanto, la instrucción **break** (romper) hace que se detenga por completo la ejecución de la iteración actual y de todas las iteraciones que vienen después."
   ]
  },
  {
   "cell_type": "markdown",
   "metadata": {
    "slideshow": {
     "slide_type": "subslide"
    }
   },
   "source": [
    "<center> <h1> Estructuras generales del continue </h1> </center>\n",
    "<br/>\n",
    "<br/>\n",
    "<center><img src=\"img/sem2_continue.png\"> </center>"
   ]
  },
  {
   "cell_type": "markdown",
   "metadata": {
    "slideshow": {
     "slide_type": "subslide"
    }
   },
   "source": [
    "<center> <h1> Ejercicios con continue </h1> </center>\n",
    "\n",
    "- Elaborar un algoritmo que imprima todos los números divisibles por 3 en un rango m, n definido por el usuario (m < n). Pista: utílice **for**."
   ]
  },
  {
   "cell_type": "code",
   "execution_count": null,
   "metadata": {
    "slideshow": {
     "slide_type": "fragment"
    }
   },
   "outputs": [],
   "source": []
  },
  {
   "cell_type": "markdown",
   "metadata": {
    "slideshow": {
     "slide_type": "subslide"
    }
   },
   "source": [
    "<center> <h1> Ejercicios con continue </h1> </center>\n",
    "\n",
    "- Elaborar un algoritmo que cuente las piezas buenas (1) y malas (0) que un revisor de línea de producción evalúa. Cada vez que el revisor encuentre una pieza buena, el algoritmo debe imprimir el número de piezas buenas y malas hasta el momento. Para indicar que ya no hay más piezas, utilice -1. Pista: utílice **while**."
   ]
  },
  {
   "cell_type": "code",
   "execution_count": null,
   "metadata": {
    "slideshow": {
     "slide_type": "fragment"
    }
   },
   "outputs": [],
   "source": []
  },
  {
   "cell_type": "markdown",
   "metadata": {
    "slideshow": {
     "slide_type": "subslide"
    }
   },
   "source": [
    "<center> <h1> Consideraciones sobre el continue </h1> </center>\n",
    "\n",
    "- El **continue** puede llevarnos a ciclos infinitos si lo combinamos con la instrucción **while**. Esto pasa cuando ponemos la instrucción que actualiza el valor de la variable controladora *después* del continue, ya que la variable controladora nunca llegará a actualizarse.\n",
    "\n",
    "- La instrucción **continue** tiene una función parecida a una estructura condicional **if-else**, y puede reemplazarse fácilmente por una de estas (aunque le añadiríamos un nivel de indentación extra al código)."
   ]
  },
  {
   "cell_type": "markdown",
   "metadata": {
    "slideshow": {
     "slide_type": "slide"
    }
   },
   "source": [
    "<center> <h1> Estructuras generales del break </h1> </center>\n",
    "<br/>\n",
    "<br/>\n",
    "<center><img src=\"img/sem2_break.png\"> </center>"
   ]
  },
  {
   "cell_type": "markdown",
   "metadata": {
    "slideshow": {
     "slide_type": "subslide"
    }
   },
   "source": [
    "<center> <h1> Ejemplo del break </h1> </center>\n",
    "\n",
    "- Elabore un algoritmo que determine si un número es primo o no. Si el número es par, debe indicar que NO es primo. Si el número es divisible por cualquier otro número, debe indicar por qué número es divisible. Si es primo, debe imprimir que es primo."
   ]
  },
  {
   "cell_type": "code",
   "execution_count": 14,
   "metadata": {
    "slideshow": {
     "slide_type": "fragment"
    }
   },
   "outputs": [
    {
     "name": "stdout",
     "output_type": "stream",
     "text": [
      "entre número entero 15\n",
      "15 NO es primo, es divisible por 3\n"
     ]
    }
   ],
   "source": [
    "x = int(input(\"entre número entero \"))\n",
    "if x % 2 == 0:\n",
    "    print(x, \"NO es primo, es número par\")\n",
    "else:\n",
    "    i = 3\n",
    "    while i < int(x**(1/2)) + 1: \n",
    "        if x % i == 0:\n",
    "            print(x, \"NO es primo, es divisible por\", i)\n",
    "            break\n",
    "        i+= 2\n",
    "    if x % i != 0:\n",
    "        print(x, \"es primo\")"
   ]
  },
  {
   "cell_type": "markdown",
   "metadata": {
    "slideshow": {
     "slide_type": "subslide"
    }
   },
   "source": [
    "<center> <h1> Ejercicios con break </h1> </center>\n",
    "\n",
    "- Elaborar un algoritmo que cuente las piezas buenas (1) y malas (0) que un revisor de línea de producción evalúa. Si el revisor llega a encontrar más de 3 piezas malas debe pararse la línea de producción. Si se acaban las piezas a evaluar, se pasa el valor -1 en vez de 1 o 0.\n"
   ]
  },
  {
   "cell_type": "code",
   "execution_count": null,
   "metadata": {
    "slideshow": {
     "slide_type": "fragment"
    }
   },
   "outputs": [],
   "source": []
  },
  {
   "cell_type": "markdown",
   "metadata": {
    "slideshow": {
     "slide_type": "slide"
    }
   },
   "source": [
    "<center> <h1> Bonus: la instrucción pass </h1> </center>\n",
    "\n",
    "- La instrucción **pass** se puede utilizar para implementar bocetos de la estructura del código sin tener que colocar líneas adicionales.\n"
   ]
  },
  {
   "cell_type": "code",
   "execution_count": 16,
   "metadata": {
    "slideshow": {
     "slide_type": "fragment"
    }
   },
   "outputs": [],
   "source": [
    "for i in range(10):\n",
    "    pass\n",
    "\n",
    "i = 0\n",
    "while i <= 10:\n",
    "    i+=1\n",
    "    pass\n",
    "\n",
    "if x == 20:\n",
    "    pass\n",
    "elif x < 10:\n",
    "    pass\n",
    "else:\n",
    "    pass"
   ]
  },
  {
   "cell_type": "markdown",
   "metadata": {},
   "source": [
    "<center> <h1> Términos para recordar </h1> </center>\n",
    "\n",
    "\n",
    "<br/>\n",
    "<br/>\n",
    "<br/>\n",
    "<center> <img src=\"img/sem2_glosario.png\"></center>"
   ]
  },
  {
   "cell_type": "code",
   "execution_count": null,
   "metadata": {},
   "outputs": [],
   "source": []
  }
 ],
 "metadata": {
  "celltoolbar": "Slideshow",
  "kernelspec": {
   "display_name": "Python 3",
   "language": "python",
   "name": "python3"
  },
  "language_info": {
   "codemirror_mode": {
    "name": "ipython",
    "version": 3
   },
   "file_extension": ".py",
   "mimetype": "text/x-python",
   "name": "python",
   "nbconvert_exporter": "python",
   "pygments_lexer": "ipython3",
   "version": "3.7.9"
  }
 },
 "nbformat": 4,
 "nbformat_minor": 4
}
