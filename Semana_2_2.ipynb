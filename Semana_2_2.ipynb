{
 "cells": [
  {
   "cell_type": "markdown",
   "metadata": {
    "slideshow": {
     "slide_type": "slide"
    }
   },
   "source": [
    "<center>\n",
    "<h1> Introducción a la programación con Python </h1>\n",
    "<h2> Alberto Mario Ceballos Arroyo </h2>\n",
    "<h2>Ingeniero de Sistemas </h2> \n",
    "</center>"
   ]
  },
  {
   "cell_type": "markdown",
   "metadata": {
    "slideshow": {
     "slide_type": "slide"
    }
   },
   "source": [
    "<center> <h1> Algunos aspectos metodológicos </h1> </center>\n",
    "\n",
    "- Para participar, preferiblemente escribir por el chat o levantar la mano (somos 150).\n",
    "\n",
    "- Recordemos que el temario está disponible si queremos adelantarnos un poco.\n",
    "\n",
    "- La evaluación es automática y se basa en los retos, el resto de actividades de la plataforma son opcionales pero muy recomendadas.\n",
    "\n",
    "- La autoevaluación y las evaluaciones de la primera semana quedaron disponibles hasta el 30 de mayo."
   ]
  },
  {
   "cell_type": "markdown",
   "metadata": {
    "slideshow": {
     "slide_type": "subslide"
    }
   },
   "source": [
    "<center> <img src=\"img/temario.png\"/> </center>"
   ]
  },
  {
   "cell_type": "markdown",
   "metadata": {},
   "source": [
    "<center> <h1> Agenda de la semana 2 </h1> </center>\n",
    "\n",
    "- Día 1:\n",
    "    - Expresiones lógicas y relacionales.\n",
    "    - Indentación.\n",
    "    - Introducción a los condicionales.\n",
    "    - Instrucciones if-else.\n",
    "    \n",
    "- Día 2:\n",
    "    - Instrucciones if-else anidadas.\n",
    "    - Instrucción elif y casos.\n",
    "    - Ejercicios\n",
    "    \n",
    "- Día 3:\n",
    "    - Introducción a los ciclos.\n",
    "    - Ciclo while.\n",
    "    - Ciclo for.\n",
    "    - Introducción a los requisitos funcionales."
   ]
  },
  {
   "cell_type": "markdown",
   "metadata": {
    "slideshow": {
     "slide_type": "slide"
    }
   },
   "source": [
    "<center> <h1> Enlaces de interés </h1> </center>\n",
    "\n",
    "- Enlace de la plataforma: https://lms.misiontic2022udea.com/login\n",
    "\n",
    "- Wiki de Python con muchos recursos en español: https://wiki.python.org/moin/SpanishLanguage\n",
    "\n",
    "- Correo del docente: alceballosa@unal.edu.co \n",
    "\n",
    "- Correo de permanencia: permamenciamisiontic@udea.edu.co\n"
   ]
  },
  {
   "cell_type": "markdown",
   "metadata": {
    "slideshow": {
     "slide_type": "slide"
    }
   },
   "source": [
    "<center> <h1> Estructuras de ciclo </h1> </center>\n",
    "\n",
    "</br>\n",
    "\n",
    "- Esta estructura nos permite repetir una o más instrucciones en función del resultado de evaluar una condición.\n",
    "\n",
    "- Hay dos tipos de estructura **ciclo**, la basada en la instrucción **while** y la basada en la instrucción **for**.\n",
    "\n",
    "- En ambos casos, el aspecto más importante es tener claro el propósito del ciclo que queremos elaborar, ya que podemos incurrir en errores como ciclos infinitos que impedirán el correcto funcionamiento de nuestros programas."
   ]
  },
  {
   "cell_type": "markdown",
   "metadata": {
    "slideshow": {
     "slide_type": "slide"
    }
   },
   "source": [
    "<center> <h1> La instrucción while </h1> </center>\n",
    "\n",
    "<center> <img width=\"650\" src=\"img/sem2_while.png\"></center>"
   ]
  },
  {
   "cell_type": "markdown",
   "metadata": {
    "slideshow": {
     "slide_type": "slide"
    }
   },
   "source": [
    "<center> <h1> Conceptos de contador, acumulador y promedio </h1> </center>\n",
    "\n",
    "\n",
    "- **Contador**: como lo indica su nombre, cuenta el número de ocurrencias de un evento dentro de un ciclo. Por ejemplo: la cantidad de números pares que encontramos en un ciclo.\n",
    "\n",
    "- **Acumulador**: es una variable en la cual se lleva el total de un concepto específico en un ciclo. Por ejemplo: la sumatoria o el factorial de una serie de números.\n",
    "\n",
    "- **Promedio**: es el valor medio de un evento cuantificable. Se obtiene dividiendo un acumulador entre su respectivo contador. \n",
    "\n",
    "    - Nota: los promedios se calculan después de que se ha terminado de ejecutar el ciclo **while**. Es un error común en los principiantes calcular promedios dentro del ciclo."
   ]
  },
  {
   "cell_type": "markdown",
   "metadata": {
    "slideshow": {
     "slide_type": "subslide"
    }
   },
   "source": [
    "<center> <h1> Ejemplos del ciclo while </h1> </center>\n",
    "\n",
    "Construir un programa que lea un entero n > 0 y que calcule y muestre la suma de todos los enteros desde 1 hasta n:"
   ]
  },
  {
   "cell_type": "code",
   "execution_count": null,
   "metadata": {
    "slideshow": {
     "slide_type": "fragment"
    }
   },
   "outputs": [],
   "source": []
  },
  {
   "cell_type": "markdown",
   "metadata": {
    "slideshow": {
     "slide_type": "subslide"
    }
   },
   "source": [
    "<center> <h1> Ejemplos del ciclo while </h1> </center>\n",
    "\n",
    "Elaborar un programa para calcular y mostrar el factorial de un entero entrado por teclado:"
   ]
  },
  {
   "cell_type": "code",
   "execution_count": null,
   "metadata": {
    "slideshow": {
     "slide_type": "fragment"
    }
   },
   "outputs": [],
   "source": []
  },
  {
   "cell_type": "markdown",
   "metadata": {
    "slideshow": {
     "slide_type": "slide"
    }
   },
   "source": [
    "<center> <h1> Ejemplos del ciclo while </h1> </center>\n",
    "\n",
    "Elaborar un programa para calcular el promedio de una serie de números enteros positivos entrados por teclado:"
   ]
  },
  {
   "cell_type": "code",
   "execution_count": null,
   "metadata": {
    "slideshow": {
     "slide_type": "fragment"
    }
   },
   "outputs": [],
   "source": []
  }
 ],
 "metadata": {
  "celltoolbar": "Slideshow",
  "kernelspec": {
   "display_name": "Python 3",
   "language": "python",
   "name": "python3"
  },
  "language_info": {
   "codemirror_mode": {
    "name": "ipython",
    "version": 3
   },
   "file_extension": ".py",
   "mimetype": "text/x-python",
   "name": "python",
   "nbconvert_exporter": "python",
   "pygments_lexer": "ipython3",
   "version": "3.7.9"
  }
 },
 "nbformat": 4,
 "nbformat_minor": 4
}
