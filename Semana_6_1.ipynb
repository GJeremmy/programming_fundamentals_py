{
 "cells": [
  {
   "cell_type": "markdown",
   "metadata": {
    "slideshow": {
     "slide_type": "slide"
    }
   },
   "source": [
    "<center>\n",
    "<h1> Introducción a la programación con Python </h1>\n",
    "<h2> Alberto Mario Ceballos Arroyo </h2>\n",
    "<h2>Ingeniero de Sistemas </h2> \n",
    "</center>"
   ]
  },
  {
   "cell_type": "markdown",
   "metadata": {
    "slideshow": {
     "slide_type": "slide"
    }
   },
   "source": [
    "<center> <h1> Algunos aspectos metodológicos </h1> </center>\n",
    "\n",
    "- Para participar, preferiblemente escribir por el chat o levantar la mano (somos 150).\n",
    "\n",
    "- Recordemos que el temario está disponible si queremos adelantarnos un poco.\n",
    "\n",
    "- La evaluación es automática y se basa en los retos, el resto de actividades de la plataforma son opcionales pero muy recomendadas."
   ]
  },
  {
   "cell_type": "markdown",
   "metadata": {
    "slideshow": {
     "slide_type": "subslide"
    }
   },
   "source": [
    "<center> <img src=\"img/temario.png\"/> </center>"
   ]
  },
  {
   "cell_type": "markdown",
   "metadata": {
    "slideshow": {
     "slide_type": "subslide"
    }
   },
   "source": [
    "<center> <h1> Agenda de la semana 6 </h1> </center>\n",
    "\n",
    "- Día 1:\n",
    "    - Librerías 1.\n",
    "    \n",
    "- Día 2:\n",
    "    - Librerías 2.\n",
    "    \n",
    "- Día 3:\n",
    "    - Interfaces gráficas."
   ]
  },
  {
   "cell_type": "markdown",
   "metadata": {
    "slideshow": {
     "slide_type": "subslide"
    }
   },
   "source": [
    "<center> <h1> Enlaces de interés </h1> </center>\n",
    "\n",
    "- Enlace de la plataforma: https://lms.misiontic2022udea.com/login\n",
    "\n",
    "- Wiki de Python con muchos recursos en español: https://wiki.python.org/moin/SpanishLanguage\n",
    "\n",
    "- PDF con **muchos** ejercicios: https://www.editorialeidec.com/wp-content/uploads/2020/10/Algoritmos-resueltos-con-Python.pdf\n",
    "\n",
    "- Correo del docente: alceballosa@unal.edu.co \n",
    "\n",
    "- Correo de permanencia: permamenciamisiontic@udea.edu.co\n",
    "\n",
    "- Carpeta del repositorio con muchos ejercicios: https://github.com/alceballosa/programming_fundamentals_py/tree/main/ejercicios\n",
    "\n",
    "- Ejecución interactiva de código Python: http://pythontutor.com/visualize.html#mode=display"
   ]
  },
  {
   "cell_type": "markdown",
   "metadata": {
    "slideshow": {
     "slide_type": "slide"
    }
   },
   "source": [
    "<center> <h1>Librerías</h1> </center>\n",
    "\n",
    "</br>\n",
    "\n",
    "- Las librerías son paquetes desarrollados por profesionales y entusiastas de la comunidad de Python.\n",
    "\n",
    "- Si bien Python por sí solo es un lenguaje bastante poderoso, las librerías nos permiten acelerar nuestro desarrollo de manera considerable.\n",
    "\n",
    "- Algunas librerías que exploraremos: numpy, pandas, matplotlib, scipy."
   ]
  },
  {
   "cell_type": "markdown",
   "metadata": {
    "slideshow": {
     "slide_type": "slide"
    }
   },
   "source": [
    "<center> <h1>Cómo instalar librerías</h1> </center>\n",
    "\n",
    "</br>\n",
    "\n",
    "- Hay dos opciones para instalar librerías: pip y conda.\n",
    "\n",
    "- pip no maneja tanto las dependencias como conda.\n",
    "\n",
    "- Una dependencia es una librería que otra librería necesita para funcionar.\n",
    "\n",
    "- Por ejemplo, scipy depende de numpy."
   ]
  },
  {
   "cell_type": "markdown",
   "metadata": {
    "slideshow": {
     "slide_type": "slide"
    }
   },
   "source": [
    "<center> <h1>Instalar librerías con conda</h1> </center>\n",
    "\n",
    "</br>\n",
    "\n",
    "- Hay dos opciones para instalar librerías: pip y conda.\n",
    "\n",
    "- La más sencilla es conda, pues se encarga del manejo de dependencias.\n",
    "\n",
    "- Podemos acceder a una consola habilitada para conda mediante Anaconda Prompt:\n",
    "\n",
    "<center> <img width = \"500\" src=\"img/prompt.png\"></center>"
   ]
  },
  {
   "cell_type": "markdown",
   "metadata": {
    "slideshow": {
     "slide_type": "subslide"
    }
   },
   "source": [
    "<center> <h1>Instalar librerías con conda</h1> </center>\n",
    "\n",
    "- `conda install nombre_del_paquete` <- instala un paquete y sus dependencias\n",
    "- `conda update nombre_del_paquete` <- actualiza un paquete\n",
    "- `conda uninstall nombre_del_paquete` <- actualiza un paquete\n",
    "- `conda list` <- muestra todos los paquetes instalados"
   ]
  },
  {
   "cell_type": "markdown",
   "metadata": {
    "slideshow": {
     "slide_type": "subslide"
    }
   },
   "source": [
    "<center> <h1>Uso de librerías</h1> </center>\n",
    "\n",
    "- Al igual que cuando importabamos archivos, para las librerías usamos el comando `import`.\n",
    "- Una vez importamos la librería, podemos acceder a todas sus funciones y clases.\n",
    "- Podemos usar la palabra reservada `as` para darle un alias a cada paquete."
   ]
  },
  {
   "cell_type": "markdown",
   "metadata": {
    "slideshow": {
     "slide_type": "slide"
    }
   },
   "source": [
    "<center> <h1>Numpy</h1> </center>\n",
    "\n",
    "- Librería especializada en cómputo matemático, estadístico y científico.\n",
    "- Es la abreviación de 'Numerical Python'.\n",
    "- Su estructura básica es el ndarray."
   ]
  },
  {
   "cell_type": "markdown",
   "metadata": {},
   "source": []
  },
  {
   "cell_type": "code",
   "execution_count": 15,
   "metadata": {
    "slideshow": {
     "slide_type": "subslide"
    }
   },
   "outputs": [
    {
     "name": "stdout",
     "output_type": "stream",
     "text": [
      "<class 'numpy.ndarray'>\n",
      "[1.5 2.8 3.5 4.  5.6 7.8]\n"
     ]
    }
   ],
   "source": [
    "import numpy as np\n",
    "\n",
    "x = np.array([1.5, 2.8, 3.5, 4, 5.6, 7.8])\n",
    "print(type(x))\n",
    "print(x)"
   ]
  },
  {
   "cell_type": "code",
   "execution_count": 83,
   "metadata": {
    "slideshow": {
     "slide_type": "subslide"
    }
   },
   "outputs": [
    {
     "name": "stdout",
     "output_type": "stream",
     "text": [
      "Forma del arreglo: (6,)\n",
      "Tipo de dato del arreglo: float64\n"
     ]
    }
   ],
   "source": [
    "#Los arreglos de numpy tienen algunos atributos básicos:\n",
    "\n",
    "print(\"Forma del arreglo:\", x.shape)\n",
    "print(\"Tipo de dato del arreglo:\", x.dtype)"
   ]
  },
  {
   "cell_type": "markdown",
   "metadata": {},
   "source": [
    "<center> <h1>Tipos de dato generales en numpy</h1> </center>\n",
    "\n",
    "- i - entero\n",
    "- bool - booleano\n",
    "- u - entero sin signo (solo positivos)\n",
    "- f - flotante\n",
    "- c - complejo\n",
    "- M - fecha hora\n",
    "- O - objeto"
   ]
  },
  {
   "cell_type": "code",
   "execution_count": 84,
   "metadata": {
    "slideshow": {
     "slide_type": "subslide"
    }
   },
   "outputs": [
    {
     "name": "stdout",
     "output_type": "stream",
     "text": [
      "[1.5 2.8 3.5 4.  5.6 7.8 1. ]\n"
     ]
    }
   ],
   "source": [
    "#Para añadir valores a un arreglo de numpy usamos la función np.append:\n",
    "x = np.append(x, 1)\n",
    "print(x)"
   ]
  },
  {
   "cell_type": "code",
   "execution_count": 85,
   "metadata": {
    "slideshow": {
     "slide_type": "subslide"
    }
   },
   "outputs": [
    {
     "name": "stdout",
     "output_type": "stream",
     "text": [
      "[ 0.   0.5  1.   1.5  2.   2.5  3.   3.5  4.   4.5  5.   5.5  6.   6.5\n",
      "  7.   7.5  8.   8.5  9.   9.5 10.  10.5 11.  11.5 12.  12.5 13.  13.5\n",
      " 14.  14.5 15.  15.5 16.  16.5 17.  17.5 18.  18.5 19.  19.5 20.  20.5\n",
      " 21.  21.5 22.  22.5 23.  23.5 24.  24.5 25.  25.5 26.  26.5 27.  27.5\n",
      " 28.  28.5 29.  29.5 30.  30.5 31.  31.5 32.  32.5 33.  33.5 34.  34.5\n",
      " 35.  35.5 36.  36.5 37.  37.5 38.  38.5 39.  39.5 40.  40.5 41.  41.5\n",
      " 42.  42.5 43.  43.5 44.  44.5 45.  45.5 46.  46.5 47.  47.5 48.  48.5\n",
      " 49.  49.5 50.  50.5 51.  51.5 52.  52.5 53.  53.5 54.  54.5 55.  55.5\n",
      " 56.  56.5 57.  57.5 58.  58.5 59.  59.5 60.  60.5 61.  61.5 62.  62.5\n",
      " 63.  63.5 64.  64.5 65.  65.5 66.  66.5 67.  67.5 68.  68.5 69.  69.5\n",
      " 70.  70.5 71.  71.5 72.  72.5 73.  73.5 74.  74.5 75.  75.5 76.  76.5\n",
      " 77.  77.5 78.  78.5 79.  79.5 80.  80.5 81.  81.5 82.  82.5 83.  83.5\n",
      " 84.  84.5 85.  85.5 86.  86.5 87.  87.5 88.  88.5 89.  89.5 90.  90.5\n",
      " 91.  91.5 92.  92.5 93.  93.5 94.  94.5 95.  95.5 96.  96.5 97.  97.5\n",
      " 98.  98.5 99.  99.5]\n"
     ]
    }
   ],
   "source": [
    "#Numpy tiene un equivalente de la función range\n",
    "#arange es muy útil para generar intervalos de valores\n",
    "#start y stop forman un intervalo semiabierto: [start, stop)\n",
    "\n",
    "rango = np.arange(start = 0, stop = 100, step = 0.5)\n",
    "print(rango)"
   ]
  },
  {
   "cell_type": "code",
   "execution_count": 86,
   "metadata": {
    "slideshow": {
     "slide_type": "subslide"
    }
   },
   "outputs": [
    {
     "name": "stdout",
     "output_type": "stream",
     "text": [
      "Primer elemento: 0.0\n",
      "Último elemento: 99.5\n",
      "Tamaño del arreglo: (200,)\n"
     ]
    }
   ],
   "source": [
    "#Podemos acceder a cualquier posición de un arreglo de numpy:\n",
    "print(\"Primer elemento:\", rango[0])\n",
    "print(\"Último elemento:\",rango[-1])\n",
    "print(\"Tamaño del arreglo:\", rango.shape)"
   ]
  },
  {
   "cell_type": "code",
   "execution_count": 87,
   "metadata": {
    "slideshow": {
     "slide_type": "subslide"
    }
   },
   "outputs": [
    {
     "name": "stdout",
     "output_type": "stream",
     "text": [
      "[ 5.   5.5  6.   6.5  7.   7.5  8.   8.5  9.   9.5 10.  10.5 11.  11.5\n",
      " 12.  12.5 13.  13.5 14.  14.5 15.  15.5 16.  16.5 17.  17.5 18.  18.5\n",
      " 19.  19.5 20.  20.5 21.  21.5 22.  22.5 23.  23.5 24.  24.5]\n",
      "---------------\n",
      "[ 0.   0.5  1.   1.5  2.   2.5  3.   3.5  4.   4.5  5.   5.5  6.   6.5\n",
      "  7.   7.5  8.   8.5  9.   9.5 10.  10.5 11.  11.5 12.  12.5 13.  13.5\n",
      " 14.  14.5]\n",
      "---------------\n",
      "[65.  65.5 66.  66.5 67.  67.5 68.  68.5 69.  69.5 70.  70.5 71.  71.5\n",
      " 72.  72.5 73.  73.5 74.  74.5 75.  75.5 76.  76.5 77.  77.5 78.  78.5\n",
      " 79.  79.5 80.  80.5 81.  81.5 82.  82.5 83.  83.5 84.  84.5 85.  85.5\n",
      " 86.  86.5 87.  87.5 88.  88.5 89.  89.5 90.  90.5 91.  91.5 92.  92.5\n",
      " 93.  93.5 94.  94.5 95.  95.5 96.  96.5 97.  97.5 98.  98.5]\n",
      "---------------\n",
      "[79.5 80.  80.5 81.  81.5 82.  82.5 83.  83.5 84.  84.5 85.  85.5 86.\n",
      " 86.5 87.  87.5 88.  88.5 89.  89.5 90.  90.5 91.  91.5 92.  92.5 93.\n",
      " 93.5 94.  94.5 95.  95.5 96.  96.5 97.  97.5 98.  98.5 99.  99.5]\n"
     ]
    }
   ],
   "source": [
    "#Numpy permite hacer \"slicing\" (tip: esto sirve también con listas de Python y )\n",
    "\n",
    "print(rango[10:50])\n",
    "print(\"---------------\")\n",
    "print(rango[:30]) # 0 implícito\n",
    "print(\"---------------\")\n",
    "print(rango[130:-2])\n",
    "print(\"---------------\")\n",
    "print(rango[159:]) #último implicito"
   ]
  },
  {
   "cell_type": "code",
   "execution_count": 88,
   "metadata": {},
   "outputs": [],
   "source": [
    "# Podemos asignar un valor a muchas posiciones\n",
    "rango[0:5] = 1 \n",
    "# O una lista, o un arreglo\n",
    "rango[6:8] = [2,2]"
   ]
  },
  {
   "cell_type": "code",
   "execution_count": 89,
   "metadata": {},
   "outputs": [
    {
     "name": "stdout",
     "output_type": "stream",
     "text": [
      "0 ---> 1.0\n",
      "1 ---> 1.0\n",
      "2 ---> 1.0\n",
      "3 ---> 1.0\n",
      "4 ---> 1.0\n",
      "5 ---> 2.5\n",
      "6 ---> 2.0\n",
      "7 ---> 2.0\n",
      "8 ---> 4.0\n",
      "9 ---> 4.5\n",
      "10 ---> 5.0\n",
      "11 ---> 5.5\n",
      "12 ---> 6.0\n",
      "13 ---> 6.5\n",
      "14 ---> 7.0\n"
     ]
    }
   ],
   "source": [
    "for posicion, valor in np.ndenumerate(rango[0:15]):\n",
    "    print(posicion[0],\"--->\", valor)"
   ]
  },
  {
   "attachments": {
    "imagen.png": {
     "image/png": "[encoded data removed]"
    }
   },
   "cell_type": "markdown",
   "metadata": {
    "slideshow": {
     "slide_type": "slide"
    }
   },
   "source": [
    "<center> <h1>Dimensiones de los arreglos en Python</h1> </center>\n",
    "\n",
    "![imagen.png](attachment:imagen.png)"
   ]
  },
  {
   "cell_type": "code",
   "execution_count": 91,
   "metadata": {
    "slideshow": {
     "slide_type": "subslide"
    }
   },
   "outputs": [
    {
     "name": "stdout",
     "output_type": "stream",
     "text": [
      "[[2 2]\n",
      " [4 5]]\n",
      "Dimensiones de la matriz: (2, 2)\n",
      "Posición (1,1): 5\n"
     ]
    }
   ],
   "source": [
    "# Ahora probemos con un arreglo bidimensional:\n",
    "\n",
    "mat = np.array([ [2,2],\n",
    "                 [4,5]\n",
    "                    ], dtype = 'i')\n",
    "print(mat)\n",
    "print(\"Dimensiones de la matriz:\",mat.shape)\n",
    "print(\"Posición (1,1):\", mat[-1][-1])"
   ]
  },
  {
   "cell_type": "code",
   "execution_count": 92,
   "metadata": {
    "slideshow": {
     "slide_type": "subslide"
    }
   },
   "outputs": [
    {
     "name": "stdout",
     "output_type": "stream",
     "text": [
      "[[[2. 2.]\n",
      "  [4. 5.]]\n",
      "\n",
      " [[2. 2.]\n",
      "  [4. 5.]]]\n",
      "Dimensiones de la matriz: (2, 2, 2)\n",
      "Posición (0,0,1): 2.0\n"
     ]
    }
   ],
   "source": [
    "#Arreglo tridimensional:\n",
    "\n",
    "cubo = np.array( [\n",
    "                [[2,2],\n",
    "                 [4,5]], \n",
    "                [[2,2],\n",
    "                 [4,5]]\n",
    "                ], dtype = 'f')\n",
    "print(cubo)\n",
    "print(\"Dimensiones de la matriz:\",cubo.shape)\n",
    "print(\"Posición (0,0,1):\", cubo[0,0,1])"
   ]
  },
  {
   "cell_type": "code",
   "execution_count": 75,
   "metadata": {
    "slideshow": {
     "slide_type": "subslide"
    }
   },
   "outputs": [
    {
     "name": "stdout",
     "output_type": "stream",
     "text": [
      "[[[1 1 1 1 1]\n",
      "  [1 1 1 1 1]\n",
      "  [1 1 1 1 1]]\n",
      "\n",
      " [[1 1 1 1 1]\n",
      "  [1 1 1 1 1]\n",
      "  [1 1 1 1 1]]]\n",
      "---------------\n",
      "[[[10 10 10 10 10]\n",
      "  [10 10 10 10 10]\n",
      "  [10 10 10 10 10]]\n",
      "\n",
      " [[10 10 10 10 10]\n",
      "  [10 10 10 10 10]\n",
      "  [10 10 10 10 10]]]\n",
      "---------------\n",
      "[[[0.5 0.5 0.5 0.5 0.5]\n",
      "  [0.5 0.5 0.5 0.5 0.5]\n",
      "  [0.5 0.5 0.5 0.5 0.5]]\n",
      "\n",
      " [[0.5 0.5 0.5 0.5 0.5]\n",
      "  [0.5 0.5 0.5 0.5 0.5]\n",
      "  [0.5 0.5 0.5 0.5 0.5]]]\n",
      "---------------\n",
      "[[[3 3 3 3 3]\n",
      "  [3 3 3 3 3]\n",
      "  [3 3 3 3 3]]\n",
      "\n",
      " [[3 3 3 3 3]\n",
      "  [3 3 3 3 3]\n",
      "  [3 3 3 3 3]]]\n",
      "---------------\n"
     ]
    }
   ],
   "source": [
    "# También podemos crear arreglos con las funciones np.ones, np.zeros y np.random\n",
    "\n",
    "unos = np.ones(shape=[2,3,5], dtype='i')\n",
    "print(unos)\n",
    "print(\"---------------\")\n",
    "\n",
    "#Podemos operar escalares con arreglos\n",
    "print(unos*10)\n",
    "print(\"---------------\")\n",
    "\n",
    "print(unos/2)\n",
    "print(\"---------------\")\n",
    "\n",
    "print(unos+2)\n",
    "print(\"---------------\")"
   ]
  },
  {
   "cell_type": "code",
   "execution_count": 81,
   "metadata": {
    "slideshow": {
     "slide_type": "subslide"
    }
   },
   "outputs": [
    {
     "name": "stdout",
     "output_type": "stream",
     "text": [
      "[[[0. 0.]\n",
      "  [0. 0.]]\n",
      "\n",
      " [[0. 0.]\n",
      "  [0. 0.]]]\n",
      "-----------\n",
      "[[[5 5]\n",
      "  [5 5]]\n",
      "\n",
      " [[5 5]\n",
      "  [5 5]]]\n",
      "-----------\n",
      "[[[0.08069051 0.07472797]\n",
      "  [0.26610593 0.84907316]]\n",
      "\n",
      " [[0.25990733 0.54765927]\n",
      "  [0.98283578 0.79363609]]]\n"
     ]
    }
   ],
   "source": [
    "ceros = np.zeros(shape=[2,2,2])\n",
    "print(ceros)\n",
    "print(\"-----------\")\n",
    "cincos = np.full(shape = [2,2,2], fill_value = 5)\n",
    "print(cincos)\n",
    "print(\"-----------\")\n",
    "aleatorio = np.random.random(size=[2,2,2])\n",
    "print(aleatorio)"
   ]
  },
  {
   "cell_type": "code",
   "execution_count": 102,
   "metadata": {
    "slideshow": {
     "slide_type": "subslide"
    }
   },
   "outputs": [
    {
     "name": "stdout",
     "output_type": "stream",
     "text": [
      "[[[0.40345257 0.37363984]\n",
      "  [1.33052965 4.24536579]]\n",
      "\n",
      " [[1.29953667 2.73829634]\n",
      "  [4.9141789  3.96818043]]]\n",
      "---------------\n",
      "[[[5.08069051 5.07472797]\n",
      "  [5.26610593 5.84907316]]\n",
      "\n",
      " [[5.25990733 5.54765927]\n",
      "  [5.98283578 5.79363609]]]\n"
     ]
    }
   ],
   "source": [
    "#Operaciones posición por posición:\n",
    "mult = cincos*aleatorio\n",
    "print(mult)\n",
    "print(\"---------------\")\n",
    "suma = cincos+aleatorio\n",
    "print(suma)"
   ]
  },
  {
   "cell_type": "code",
   "execution_count": 103,
   "metadata": {
    "slideshow": {
     "slide_type": "subslide"
    }
   },
   "outputs": [
    {
     "name": "stdout",
     "output_type": "stream",
     "text": [
      "[[[0. 0.]\n",
      "  [0. 0.]]\n",
      "\n",
      " [[0. 0.]\n",
      "  [0. 5.]]]\n",
      "----------------\n",
      "[[[False False]\n",
      "  [False False]]\n",
      "\n",
      " [[False False]\n",
      "  [False  True]]]\n"
     ]
    }
   ],
   "source": [
    "# Conversión de tipo:\n",
    "ceros[1,1,1] = 5\n",
    "print(ceros)\n",
    "print(\"----------------\")\n",
    "ceros_bool = ceros.astype('bool')\n",
    "print(ceros_bool)"
   ]
  },
  {
   "cell_type": "code",
   "execution_count": 105,
   "metadata": {
    "slideshow": {
     "slide_type": "subslide"
    }
   },
   "outputs": [
    {
     "name": "stdout",
     "output_type": "stream",
     "text": [
      "[[[0.40345257 0.37363984]\n",
      "  [1.33052965 4.24536579]]\n",
      "\n",
      " [[1.29953667 2.73829634]\n",
      "  [4.9141789  3.96818043]]]\n",
      "----------------\n",
      "[[[0 0]\n",
      "  [1 4]]\n",
      "\n",
      " [[1 2]\n",
      "  [4 3]]]\n"
     ]
    }
   ],
   "source": [
    "print(mult)\n",
    "print(\"----------------\")\n",
    "mult_int = mult.astype('i')\n",
    "print(mult_int)"
   ]
  },
  {
   "cell_type": "code",
   "execution_count": 111,
   "metadata": {
    "slideshow": {
     "slide_type": "subslide"
    }
   },
   "outputs": [
    {
     "name": "stdout",
     "output_type": "stream",
     "text": [
      "Arreglo:  [0.65806811 0.9149706  0.03702271 0.08520728 0.40329558 0.68876311\n",
      " 0.8456188  0.7129752  0.51689259 0.16928194]\n",
      "Máximo: 0.9149705978127664\n",
      "Mínimo: 0.03702271077421393\n",
      "Posición del mínimo: 2\n",
      "Media: 0.5032095919197442\n",
      "Desviación estándar: 0.3004892548402051\n",
      "Suma: 5.032095919197443\n",
      "Mediana: 0.587480349766808\n"
     ]
    }
   ],
   "source": [
    "# Algunas operaciones estadísticas:\n",
    "\n",
    "z = np.random.random(10)\n",
    "print(\"Arreglo: \", z)\n",
    "print(\"Máximo:\", z.max())\n",
    "print(\"Posición del máximo:\", z.argmin())\n",
    "print(\"Mínimo:\", z.min())\n",
    "print(\"Posición del mínimo:\", z.argmin())\n",
    "print(\"Media:\", z.mean())\n",
    "print(\"Desviación estándar:\",z.std())\n",
    "print(\"Suma:\",z.sum())\n",
    "print(\"Mediana:\", np.median(z))"
   ]
  },
  {
   "cell_type": "markdown",
   "metadata": {
    "slideshow": {
     "slide_type": "subslide"
    }
   },
   "source": [
    "Numpy implementa una gran cantidad de funciones matemáticas, las exploraremos a continuación..."
   ]
  },
  {
   "cell_type": "markdown",
   "metadata": {
    "slideshow": {
     "slide_type": "slide"
    }
   },
   "source": [
    "<center> <h1>Recursos numpy</h1> </center>\n",
    "\n",
    "- Tutorial en español: http://facundoq.github.io/courses/images/res/03_numpy.html\n",
    "- Documentación en inglés: https://numpy.org/doc/stable/\n",
    "- Tutoriales en inglés: https://numpy.org/doc/stable/user/index.html\n",
    "- Videos en español: https://aprendeia.com/introduccion-a-numpy-python-1/"
   ]
  },
  {
   "cell_type": "markdown",
   "metadata": {
    "slideshow": {
     "slide_type": "slide"
    }
   },
   "source": [
    "<center> <h1>Matplotlib</h1> </center>\n",
    "\n",
    "- Librería para visualización de gráficas e imágenes.\n",
    "- Muy útil para presentar resultados de trabajos o visualizar los datos."
   ]
  },
  {
   "cell_type": "code",
   "execution_count": 115,
   "metadata": {
    "slideshow": {
     "slide_type": "subslide"
    }
   },
   "outputs": [],
   "source": [
    "import matplotlib.pyplot as plt\n",
    "import numpy as np"
   ]
  },
  {
   "cell_type": "markdown",
   "metadata": {},
   "source": [
    "# Gráfico de línea"
   ]
  },
  {
   "cell_type": "code",
   "execution_count": 120,
   "metadata": {
    "slideshow": {
     "slide_type": "subslide"
    }
   },
   "outputs": [
    {
     "data": {
      "image/png": "[encoded data removed]",
      "text/plain": [
       "<Figure size 500x500 with 1 Axes>"
      ]
     },
     "metadata": {
      "needs_background": "light"
     },
     "output_type": "display_data"
    }
   ],
   "source": [
    "#Para graficar necesitamos unos datos\n",
    "datos = np.arange(1,100,5)\n",
    "\n",
    "#Generamos la figura y definimos el tamaño y la resolución\n",
    "fig = plt.figure( figsize=(5,5), dpi = 100)\n",
    "\n",
    "#La función plot nos permite dibujar líneas\n",
    "#Si mandamos solamente un arreglo, matplotlib asume que el arreglo es la variable y y asigna automáticamente\n",
    "#la x.\n",
    "plt.plot(datos)\n",
    "\n",
    "#Finalmente, mostramos la figura\n",
    "plt.show()"
   ]
  },
  {
   "cell_type": "code",
   "execution_count": 121,
   "metadata": {},
   "outputs": [
    {
     "data": {
      "image/png": "[encoded data removed]",
      "text/plain": [
       "<Figure size 500x500 with 1 Axes>"
      ]
     },
     "metadata": {
      "needs_background": "light"
     },
     "output_type": "display_data"
    }
   ],
   "source": [
    "#Grafiquemos una función de seno de baja resolución...\n",
    "x = np.arange(1,100,5)\n",
    "y = np.sin(x)\n",
    "\n",
    "fig = plt.figure( figsize=(5,5), dpi = 100)\n",
    "plt.plot(x,y)\n",
    "plt.show()"
   ]
  },
  {
   "cell_type": "markdown",
   "metadata": {
    "slideshow": {
     "slide_type": "subslide"
    }
   },
   "source": [
    "<center> <h1> Ejercicio 1</h1> </center>\n",
    "\n",
    "Elabore un código que le permita graficar en celdas distintas las siguientes funciones con una mejor resolución de los datos:\n",
    "\n",
    "- Seno\n",
    "- Coseno\n",
    "- Exponencial\n",
    "- Raiz cuadrada\n",
    "- $x^3$\n",
    "- Logaritmo natural\n",
    "\n",
    "Para encontrar las funciones puede consultar la documentación de numpy."
   ]
  },
  {
   "cell_type": "code",
   "execution_count": null,
   "metadata": {},
   "outputs": [],
   "source": []
  },
  {
   "cell_type": "code",
   "execution_count": null,
   "metadata": {},
   "outputs": [],
   "source": []
  },
  {
   "cell_type": "code",
   "execution_count": null,
   "metadata": {},
   "outputs": [],
   "source": []
  },
  {
   "cell_type": "code",
   "execution_count": null,
   "metadata": {},
   "outputs": [],
   "source": []
  },
  {
   "cell_type": "code",
   "execution_count": null,
   "metadata": {},
   "outputs": [],
   "source": []
  },
  {
   "cell_type": "code",
   "execution_count": null,
   "metadata": {},
   "outputs": [],
   "source": []
  },
  {
   "cell_type": "markdown",
   "metadata": {},
   "source": [
    "# Gráfico de dispersión"
   ]
  },
  {
   "cell_type": "code",
   "execution_count": 126,
   "metadata": {},
   "outputs": [
    {
     "data": {
      "image/png": "[encoded data removed]",
      "text/plain": [
       "<Figure size 500x500 with 1 Axes>"
      ]
     },
     "metadata": {
      "needs_background": "light"
     },
     "output_type": "display_data"
    }
   ],
   "source": [
    "x = np.arange(-100,101,1)\n",
    "y = np.random.random(size=x.shape)\n",
    "\n",
    "\n",
    "fig = plt.figure( figsize=(5,5), dpi = 100)\n",
    "\n",
    "#La función scatter permite dibujar los puntos solamente\n",
    "#Todos los colores de matplotlib: https://matplotlib.org/2.0.2/examples/color/named_colors.html\n",
    "plt.scatter(x,y, color = \"darkblue\")\n",
    "\n",
    "#Podemos colocarle título a la gráfica:\n",
    "\n",
    "plt.title(\"Gráfica con valores aleatorios\")\n",
    "plt.xlabel(\"Rango de valores\")\n",
    "plt.ylabel(\"Datos aleatorios\")\n",
    "plt.show()"
   ]
  },
  {
   "cell_type": "markdown",
   "metadata": {},
   "source": [
    "# Títulos, etiquetas y gráficas con varios elementos"
   ]
  },
  {
   "cell_type": "code",
   "execution_count": 134,
   "metadata": {},
   "outputs": [
    {
     "data": {
      "image/png": "[encoded data removed]",
      "text/plain": [
       "<Figure size 500x500 with 1 Axes>"
      ]
     },
     "metadata": {
      "needs_background": "light"
     },
     "output_type": "display_data"
    }
   ],
   "source": [
    "x = np.arange(-100,101,1)\n",
    "y = x**3\n",
    "\n",
    "\n",
    "fig = plt.figure( figsize=(5,5), dpi = 100)\n",
    "#Podemos ajustar el tamaño de la línea\n",
    "plt.plot(x,y, color = \"darkred\", linewidth = 5)\n",
    "\n",
    "plt.title(\"Gráfica de la función $x^3$\")\n",
    "plt.xlabel(\"x\")\n",
    "plt.ylabel(\"y\")\n",
    "plt.show()"
   ]
  },
  {
   "cell_type": "code",
   "execution_count": 139,
   "metadata": {},
   "outputs": [
    {
     "data": {
      "image/png": "[encoded data removed]",
      "text/plain": [
       "<Figure size 500x500 with 1 Axes>"
      ]
     },
     "metadata": {
      "needs_background": "light"
     },
     "output_type": "display_data"
    }
   ],
   "source": [
    "x = np.arange(-100,101,1)\n",
    "y1 = x\n",
    "y2 = 2*x-5\n",
    "\n",
    "fig = plt.figure( figsize=(5,5), dpi = 100)\n",
    "\n",
    "#Podemos ponerle etiquetas a cada gráfica\n",
    "plt.plot(x,y1, color = \"darkred\", linewidth = 5, label = \"$y=x$\")\n",
    "plt.plot(x,y2, color = \"blue\", linewidth = 2, label = \"$y=2x-5$\")\n",
    "#Y las mostramos con plt.legend:\n",
    "plt.legend()\n",
    "\n",
    "plt.title(\"Gráfica de las funciones\")\n",
    "plt.xlabel(\"x\")\n",
    "plt.ylabel(\"y\")\n",
    "plt.show()"
   ]
  },
  {
   "attachments": {
    "imagen-3.png": {
     "image/png": "[encoded data removed]"
    }
   },
   "cell_type": "markdown",
   "metadata": {
    "slideshow": {
     "slide_type": "subslide"
    }
   },
   "source": [
    "<center> <h1> Ejercicio 2</h1> </center>\n",
    "\n",
    "Elabore un código que le permita graficar la función sigmoide con valores entre -10 y 10.\n",
    "\n",
    "La definición de la función sigmoide es la siguiente:\n",
    "\n",
    "# $y = \\frac{1}{1+e^{z}}$\n",
    "\n",
    "El resultado debería verse así (no tiene que llevar la ecuación dentro):\n",
    "\n",
    "![imagen-3.png](attachment:imagen-3.png)"
   ]
  },
  {
   "cell_type": "code",
   "execution_count": null,
   "metadata": {},
   "outputs": [],
   "source": [
    "# Su código aquí"
   ]
  },
  {
   "cell_type": "markdown",
   "metadata": {},
   "source": [
    "# Histogramas"
   ]
  },
  {
   "cell_type": "code",
   "execution_count": 143,
   "metadata": {},
   "outputs": [
    {
     "data": {
      "image/png": "[encoded data removed]",
      "text/plain": [
       "<Figure size 500x500 with 1 Axes>"
      ]
     },
     "metadata": {
      "needs_background": "light"
     },
     "output_type": "display_data"
    }
   ],
   "source": [
    "datos = [10, 20, 20, 20, 10, 5, 20, 5, 10, 10]\n",
    "fig = plt.figure( figsize=(5,5), dpi = 100)\n",
    "#Matplotlib también permite ver histogramas\n",
    "plt.hist(datos, color = \"black\")\n",
    "plt.xlabel(\"Edad\")\n",
    "plt.ylabel(\"Frecuencia\")\n",
    "plt.title(\"Histograma de edades\")\n",
    "plt.show()"
   ]
  },
  {
   "cell_type": "markdown",
   "metadata": {},
   "source": [
    "# Mapas de calor"
   ]
  },
  {
   "cell_type": "code",
   "execution_count": 152,
   "metadata": {},
   "outputs": [
    {
     "data": {
      "image/png": "[encoded data removed]",
      "text/plain": [
       "<Figure size 500x500 with 2 Axes>"
      ]
     },
     "metadata": {
      "needs_background": "light"
     },
     "output_type": "display_data"
    }
   ],
   "source": [
    "delta = 0.025\n",
    "x = np.arange(-3.0, 3.0, delta)\n",
    "y = np.arange(-3.0, 3.0, delta)\n",
    "#Creamos una malla para graficar en 3D\n",
    "X, Y = np.meshgrid(x, y)\n",
    "\n",
    "Z = np.exp(-X**2 - Y**2)\n",
    "\n",
    "fig = plt.figure( figsize=(5,5), dpi = 100)\n",
    "plt.imshow(Z, cmap='hot')\n",
    "plt.colorbar()\n",
    "plt.show()"
   ]
  },
  {
   "cell_type": "markdown",
   "metadata": {},
   "source": [
    "# Contornos"
   ]
  },
  {
   "cell_type": "code",
   "execution_count": 150,
   "metadata": {},
   "outputs": [
    {
     "data": {
      "text/plain": [
       "Text(0.5, 1.0, 'Simplest default with labels')"
      ]
     },
     "execution_count": 150,
     "metadata": {},
     "output_type": "execute_result"
    },
    {
     "data": {
      "image/png": "[encoded data removed]",
      "text/plain": [
       "<Figure size 500x500 with 1 Axes>"
      ]
     },
     "metadata": {
      "needs_background": "light"
     },
     "output_type": "display_data"
    }
   ],
   "source": [
    "delta = 0.025\n",
    "x = np.arange(-3.0, 3.0, delta)\n",
    "y = np.arange(-3.0, 3.0, delta)\n",
    "#Creamos una malla para graficar en 3D\n",
    "X, Y = np.meshgrid(x, y)\n",
    "\n",
    "Z = np.exp(-X**2 - Y**2)\n",
    "\n",
    "fig = plt.figure( figsize=(5,5), dpi = 100)\n",
    "CS = plt.contour(X, Y, Z)\n",
    "plt.clabel(CS, inline=True, fontsize=7)\n",
    "plt.title('Simplest default with labels')"
   ]
  },
  {
   "cell_type": "markdown",
   "metadata": {},
   "source": [
    "<center> <h1> Ejercicio 3</h1> </center>\n",
    "\n",
    "Explore por su cuenta lo que es un diagrama de caja y bigotes (box plot). Busque la función que genere el box plot en matplotlib e interprete todos los elementos de la gráfica. Use la variable 'datos' definida abajo."
   ]
  },
  {
   "cell_type": "code",
   "execution_count": 154,
   "metadata": {},
   "outputs": [
    {
     "data": {
      "text/plain": [
       "{'whiskers': [<matplotlib.lines.Line2D at 0x1c8f03deb88>,\n",
       "  <matplotlib.lines.Line2D at 0x1c8f03de1c8>],\n",
       " 'caps': [<matplotlib.lines.Line2D at 0x1c8f03de908>,\n",
       "  <matplotlib.lines.Line2D at 0x1c8f04048c8>],\n",
       " 'boxes': [<matplotlib.lines.Line2D at 0x1c8f03e4308>],\n",
       " 'medians': [<matplotlib.lines.Line2D at 0x1c8ead150c8>],\n",
       " 'fliers': [<matplotlib.lines.Line2D at 0x1c8f03deec8>],\n",
       " 'means': []}"
      ]
     },
     "execution_count": 154,
     "metadata": {},
     "output_type": "execute_result"
    },
    {
     "data": {
      "image/png": "[encoded data removed]",
      "text/plain": [
       "<Figure size 432x288 with 1 Axes>"
      ]
     },
     "metadata": {
      "needs_background": "light"
     },
     "output_type": "display_data"
    }
   ],
   "source": [
    "datos = [0, 0, 1, 2, 3, 1, 1, 5, 10, 25, 5, 5, 5, 5]"
   ]
  },
  {
   "cell_type": "markdown",
   "metadata": {
    "slideshow": {
     "slide_type": "slide"
    }
   },
   "source": [
    "<center> <h1>Pandas</h1> </center>\n",
    "\n",
    "- Librería para manipulación de datos estadísticos.\n",
    "- Se utiliza mucho en conjunto con matplotlib e incluso implementa algunas de sus funcionalidades."
   ]
  },
  {
   "cell_type": "code",
   "execution_count": 156,
   "metadata": {
    "slideshow": {
     "slide_type": "subslide"
    }
   },
   "outputs": [],
   "source": [
    "import pandas as pd \n",
    "import numpy as np\n",
    "import matplotlib.pyplot as plt \n",
    "\n",
    "df = pd.read_csv(\"Semana_6_1y2/ejemplo2.csv\") "
   ]
  },
  {
   "cell_type": "code",
   "execution_count": 157,
   "metadata": {},
   "outputs": [
    {
     "name": "stdout",
     "output_type": "stream",
     "text": [
      "  Task Type      Priority  Effort  Time\n",
      "0   Feature     Must Have      30    40\n",
      "1   Feature          Good      20    40\n",
      "2   Feature  Nice to Have      15    20\n",
      "3       Bug      Fix ASAP       2     2\n",
      "4       Bug           Fix       2     8\n"
     ]
    }
   ],
   "source": [
    "#Mostrar los primeros 5 elementos\n",
    "print(df.head(5))"
   ]
  },
  {
   "cell_type": "code",
   "execution_count": 159,
   "metadata": {},
   "outputs": [
    {
     "name": "stdout",
     "output_type": "stream",
     "text": [
      "    Task Type      Priority  Effort  Time\n",
      "4         Bug           Fix       2     8\n",
      "5         Bug   Fix if Time       5    12\n",
      "6  User Story     Must Have       8    10\n",
      "7  User Story          Good       5     7\n",
      "8  User Story  Nice to Have       8     7\n"
     ]
    }
   ],
   "source": [
    "#Mostrar los últimos 5 elementos\n",
    "print(df.tail(5))"
   ]
  },
  {
   "cell_type": "code",
   "execution_count": 166,
   "metadata": {},
   "outputs": [
    {
     "name": "stdout",
     "output_type": "stream",
     "text": [
      "<class 'pandas.core.frame.DataFrame'>\n",
      "RangeIndex: 9 entries, 0 to 8\n",
      "Data columns (total 4 columns):\n",
      " #   Column     Non-Null Count  Dtype \n",
      "---  ------     --------------  ----- \n",
      " 0   Task Type  9 non-null      object\n",
      " 1   Priority   9 non-null      object\n",
      " 2   Effort     9 non-null      int64 \n",
      " 3   Time       9 non-null      int64 \n",
      "dtypes: int64(2), object(2)\n",
      "memory usage: 416.0+ bytes\n",
      "None\n"
     ]
    }
   ],
   "source": [
    "# O podemos describir todo el conjunto de datos:\n",
    "\n",
    "print(df.info())"
   ]
  },
  {
   "cell_type": "code",
   "execution_count": 169,
   "metadata": {},
   "outputs": [
    {
     "name": "stdout",
     "output_type": "stream",
     "text": [
      "         Task Type Priority     Effort       Time\n",
      "count            9        9   9.000000   9.000000\n",
      "unique           3        6        NaN        NaN\n",
      "top     User Story     Good        NaN        NaN\n",
      "freq             3        2        NaN        NaN\n",
      "mean           NaN      NaN  10.555556  16.222222\n",
      "std            NaN      NaN   9.408920  14.324610\n",
      "min            NaN      NaN   2.000000   2.000000\n",
      "25%            NaN      NaN   5.000000   7.000000\n",
      "50%            NaN      NaN   8.000000  10.000000\n",
      "75%            NaN      NaN  15.000000  20.000000\n",
      "max            NaN      NaN  30.000000  40.000000\n"
     ]
    }
   ],
   "source": [
    "#Analizamos las variables\n",
    "print(df.describe(include='all'))"
   ]
  },
  {
   "cell_type": "code",
   "execution_count": 170,
   "metadata": {},
   "outputs": [
    {
     "data": {
      "text/plain": [
       "0    40\n",
       "1    40\n",
       "2    20\n",
       "3     2\n",
       "4     8\n",
       "5    12\n",
       "6    10\n",
       "7     7\n",
       "8     7\n",
       "Name: Time, dtype: int64"
      ]
     },
     "execution_count": 170,
     "metadata": {},
     "output_type": "execute_result"
    }
   ],
   "source": [
    "#Podemos acceder a cada columna por separado\n",
    "df[\"Time\"]"
   ]
  },
  {
   "cell_type": "code",
   "execution_count": 171,
   "metadata": {},
   "outputs": [
    {
     "data": {
      "text/plain": [
       "Text(0.5, 1.0, 'Histograma de tiempos')"
      ]
     },
     "execution_count": 171,
     "metadata": {},
     "output_type": "execute_result"
    },
    {
     "data": {
      "image/png": "[encoded data removed]",
      "text/plain": [
       "<Figure size 432x288 with 1 Axes>"
      ]
     },
     "metadata": {
      "needs_background": "light"
     },
     "output_type": "display_data"
    }
   ],
   "source": [
    "df[\"Time\"].hist()\n",
    "plt.title(\"Histograma de tiempos\")"
   ]
  },
  {
   "cell_type": "code",
   "execution_count": 174,
   "metadata": {},
   "outputs": [
    {
     "name": "stdout",
     "output_type": "stream",
     "text": [
      "Task Type      Feature\n",
      "Priority     Must Have\n",
      "Effort              30\n",
      "Time                40\n",
      "Name: 0, dtype: object\n",
      "---------------\n",
      "40\n"
     ]
    }
   ],
   "source": [
    "#Podemos indexar con la función loc:\n",
    "\n",
    "print(df.loc[0,:])\n",
    "print(\"---------------\")\n",
    "print(df.loc[0,\"Time\"])\n"
   ]
  },
  {
   "cell_type": "code",
   "execution_count": 176,
   "metadata": {},
   "outputs": [
    {
     "name": "stdout",
     "output_type": "stream",
     "text": [
      "Must Have\n"
     ]
    }
   ],
   "source": [
    "# O con la función iloc, como si fuera una matriz:\n",
    "print(df.iloc[0,1])"
   ]
  },
  {
   "cell_type": "markdown",
   "metadata": {},
   "source": [
    "# Analícemos el conjunto de datos de pinguinos..."
   ]
  },
  {
   "cell_type": "code",
   "execution_count": 180,
   "metadata": {},
   "outputs": [],
   "source": [
    "df = pd.read_json(\"Semana_6_1y2/penguins.json\")"
   ]
  },
  {
   "cell_type": "code",
   "execution_count": 181,
   "metadata": {},
   "outputs": [
    {
     "name": "stdout",
     "output_type": "stream",
     "text": [
      "  Species     Island  Beak Length (mm)  Beak Depth (mm)  Flipper Length (mm)  \\\n",
      "0  Adelie  Torgersen              39.1             18.7                181.0   \n",
      "1  Adelie  Torgersen              39.5             17.4                186.0   \n",
      "2  Adelie  Torgersen              40.3             18.0                195.0   \n",
      "3  Adelie  Torgersen               NaN              NaN                  NaN   \n",
      "4  Adelie  Torgersen              36.7             19.3                193.0   \n",
      "\n",
      "   Body Mass (g)     Sex  \n",
      "0         3750.0    MALE  \n",
      "1         3800.0  FEMALE  \n",
      "2         3250.0  FEMALE  \n",
      "3            NaN    None  \n",
      "4         3450.0  FEMALE  \n"
     ]
    }
   ],
   "source": [
    "print(df.head(5))"
   ]
  },
  {
   "cell_type": "code",
   "execution_count": null,
   "metadata": {},
   "outputs": [],
   "source": []
  },
  {
   "cell_type": "code",
   "execution_count": null,
   "metadata": {},
   "outputs": [],
   "source": []
  },
  {
   "cell_type": "code",
   "execution_count": null,
   "metadata": {},
   "outputs": [],
   "source": []
  },
  {
   "cell_type": "markdown",
   "metadata": {},
   "source": [
    "# Analícemos el conjunto de datos de Dengue en Cali..."
   ]
  },
  {
   "cell_type": "code",
   "execution_count": 184,
   "metadata": {},
   "outputs": [
    {
     "data": {
      "text/html": [
       "<div>\n",
       "<style scoped>\n",
       "    .dataframe tbody tr th:only-of-type {\n",
       "        vertical-align: middle;\n",
       "    }\n",
       "\n",
       "    .dataframe tbody tr th {\n",
       "        vertical-align: top;\n",
       "    }\n",
       "\n",
       "    .dataframe thead th {\n",
       "        text-align: right;\n",
       "    }\n",
       "</style>\n",
       "<table border=\"1\" class=\"dataframe\">\n",
       "  <thead>\n",
       "    <tr style=\"text-align: right;\">\n",
       "      <th></th>\n",
       "      <th>COD_DPTO</th>\n",
       "      <th>COD_MUNICIPIO</th>\n",
       "      <th>POBLACION</th>\n",
       "      <th>ANO</th>\n",
       "      <th>SEMANA</th>\n",
       "      <th>PRECIPITATION</th>\n",
       "      <th>DRY_DAYS</th>\n",
       "      <th>TEMPERATURE_AMAX</th>\n",
       "      <th>REL_HUMIDITY_AMAX</th>\n",
       "      <th>TEMPERATURE_AMIN</th>\n",
       "      <th>...</th>\n",
       "      <th>SST1+2</th>\n",
       "      <th>SST3</th>\n",
       "      <th>SST4</th>\n",
       "      <th>SST3.4</th>\n",
       "      <th>TNI</th>\n",
       "      <th>CAR</th>\n",
       "      <th>NTA</th>\n",
       "      <th>DENGUE</th>\n",
       "      <th>DENGUE GRAVE</th>\n",
       "      <th>MORTALIDAD POR DENGUE</th>\n",
       "    </tr>\n",
       "    <tr>\n",
       "      <th>FECHA</th>\n",
       "      <th></th>\n",
       "      <th></th>\n",
       "      <th></th>\n",
       "      <th></th>\n",
       "      <th></th>\n",
       "      <th></th>\n",
       "      <th></th>\n",
       "      <th></th>\n",
       "      <th></th>\n",
       "      <th></th>\n",
       "      <th></th>\n",
       "      <th></th>\n",
       "      <th></th>\n",
       "      <th></th>\n",
       "      <th></th>\n",
       "      <th></th>\n",
       "      <th></th>\n",
       "      <th></th>\n",
       "      <th></th>\n",
       "      <th></th>\n",
       "      <th></th>\n",
       "    </tr>\n",
       "  </thead>\n",
       "  <tbody>\n",
       "    <tr>\n",
       "      <th>2006-09-04</th>\n",
       "      <td>76.0</td>\n",
       "      <td>76001</td>\n",
       "      <td>2144860.0</td>\n",
       "      <td>2006</td>\n",
       "      <td>36</td>\n",
       "      <td>0.0</td>\n",
       "      <td>0</td>\n",
       "      <td>NaN</td>\n",
       "      <td>NaN</td>\n",
       "      <td>NaN</td>\n",
       "      <td>...</td>\n",
       "      <td>21.430000</td>\n",
       "      <td>25.74</td>\n",
       "      <td>29.400000</td>\n",
       "      <td>27.340000</td>\n",
       "      <td>-0.991</td>\n",
       "      <td>0.26</td>\n",
       "      <td>0.40</td>\n",
       "      <td>NaN</td>\n",
       "      <td>NaN</td>\n",
       "      <td>NaN</td>\n",
       "    </tr>\n",
       "    <tr>\n",
       "      <th>2006-09-10</th>\n",
       "      <td>76.0</td>\n",
       "      <td>76001</td>\n",
       "      <td>2144860.0</td>\n",
       "      <td>2006</td>\n",
       "      <td>37</td>\n",
       "      <td>0.0</td>\n",
       "      <td>0</td>\n",
       "      <td>NaN</td>\n",
       "      <td>NaN</td>\n",
       "      <td>NaN</td>\n",
       "      <td>...</td>\n",
       "      <td>21.430000</td>\n",
       "      <td>25.74</td>\n",
       "      <td>29.400000</td>\n",
       "      <td>27.340000</td>\n",
       "      <td>-0.991</td>\n",
       "      <td>0.26</td>\n",
       "      <td>0.40</td>\n",
       "      <td>NaN</td>\n",
       "      <td>NaN</td>\n",
       "      <td>NaN</td>\n",
       "    </tr>\n",
       "    <tr>\n",
       "      <th>2006-09-17</th>\n",
       "      <td>76.0</td>\n",
       "      <td>76001</td>\n",
       "      <td>2144860.0</td>\n",
       "      <td>2006</td>\n",
       "      <td>38</td>\n",
       "      <td>0.0</td>\n",
       "      <td>0</td>\n",
       "      <td>NaN</td>\n",
       "      <td>NaN</td>\n",
       "      <td>NaN</td>\n",
       "      <td>...</td>\n",
       "      <td>21.430000</td>\n",
       "      <td>25.74</td>\n",
       "      <td>29.400000</td>\n",
       "      <td>27.340000</td>\n",
       "      <td>-0.991</td>\n",
       "      <td>0.26</td>\n",
       "      <td>0.40</td>\n",
       "      <td>NaN</td>\n",
       "      <td>NaN</td>\n",
       "      <td>NaN</td>\n",
       "    </tr>\n",
       "    <tr>\n",
       "      <th>2006-09-24</th>\n",
       "      <td>76.0</td>\n",
       "      <td>76001</td>\n",
       "      <td>2144860.0</td>\n",
       "      <td>2006</td>\n",
       "      <td>39</td>\n",
       "      <td>0.0</td>\n",
       "      <td>0</td>\n",
       "      <td>NaN</td>\n",
       "      <td>NaN</td>\n",
       "      <td>NaN</td>\n",
       "      <td>...</td>\n",
       "      <td>21.430000</td>\n",
       "      <td>25.74</td>\n",
       "      <td>29.400000</td>\n",
       "      <td>27.340000</td>\n",
       "      <td>-0.991</td>\n",
       "      <td>0.26</td>\n",
       "      <td>0.40</td>\n",
       "      <td>NaN</td>\n",
       "      <td>NaN</td>\n",
       "      <td>NaN</td>\n",
       "    </tr>\n",
       "    <tr>\n",
       "      <th>2006-10-01</th>\n",
       "      <td>76.0</td>\n",
       "      <td>76001</td>\n",
       "      <td>2144860.0</td>\n",
       "      <td>2006</td>\n",
       "      <td>40</td>\n",
       "      <td>0.0</td>\n",
       "      <td>0</td>\n",
       "      <td>NaN</td>\n",
       "      <td>NaN</td>\n",
       "      <td>NaN</td>\n",
       "      <td>...</td>\n",
       "      <td>22.220000</td>\n",
       "      <td>25.96</td>\n",
       "      <td>29.440000</td>\n",
       "      <td>27.470000</td>\n",
       "      <td>-1.131</td>\n",
       "      <td>0.25</td>\n",
       "      <td>0.49</td>\n",
       "      <td>NaN</td>\n",
       "      <td>NaN</td>\n",
       "      <td>NaN</td>\n",
       "    </tr>\n",
       "    <tr>\n",
       "      <th>...</th>\n",
       "      <td>...</td>\n",
       "      <td>...</td>\n",
       "      <td>...</td>\n",
       "      <td>...</td>\n",
       "      <td>...</td>\n",
       "      <td>...</td>\n",
       "      <td>...</td>\n",
       "      <td>...</td>\n",
       "      <td>...</td>\n",
       "      <td>...</td>\n",
       "      <td>...</td>\n",
       "      <td>...</td>\n",
       "      <td>...</td>\n",
       "      <td>...</td>\n",
       "      <td>...</td>\n",
       "      <td>...</td>\n",
       "      <td>...</td>\n",
       "      <td>...</td>\n",
       "      <td>...</td>\n",
       "      <td>...</td>\n",
       "      <td>...</td>\n",
       "    </tr>\n",
       "    <tr>\n",
       "      <th>2020-11-29</th>\n",
       "      <td>76.0</td>\n",
       "      <td>76001</td>\n",
       "      <td>2496442.0</td>\n",
       "      <td>2020</td>\n",
       "      <td>49</td>\n",
       "      <td>49.4</td>\n",
       "      <td>1</td>\n",
       "      <td>NaN</td>\n",
       "      <td>NaN</td>\n",
       "      <td>NaN</td>\n",
       "      <td>...</td>\n",
       "      <td>21.811429</td>\n",
       "      <td>24.22</td>\n",
       "      <td>27.724286</td>\n",
       "      <td>25.475714</td>\n",
       "      <td>0.455</td>\n",
       "      <td>NaN</td>\n",
       "      <td>NaN</td>\n",
       "      <td>133.0</td>\n",
       "      <td>2.0</td>\n",
       "      <td>0.0</td>\n",
       "    </tr>\n",
       "    <tr>\n",
       "      <th>2020-12-06</th>\n",
       "      <td>76.0</td>\n",
       "      <td>76001</td>\n",
       "      <td>2496442.0</td>\n",
       "      <td>2020</td>\n",
       "      <td>50</td>\n",
       "      <td>12.7</td>\n",
       "      <td>4</td>\n",
       "      <td>NaN</td>\n",
       "      <td>NaN</td>\n",
       "      <td>NaN</td>\n",
       "      <td>...</td>\n",
       "      <td>22.160000</td>\n",
       "      <td>24.38</td>\n",
       "      <td>27.650000</td>\n",
       "      <td>25.530000</td>\n",
       "      <td>0.571</td>\n",
       "      <td>NaN</td>\n",
       "      <td>NaN</td>\n",
       "      <td>125.0</td>\n",
       "      <td>0.0</td>\n",
       "      <td>0.0</td>\n",
       "    </tr>\n",
       "    <tr>\n",
       "      <th>2020-12-13</th>\n",
       "      <td>76.0</td>\n",
       "      <td>76001</td>\n",
       "      <td>2496442.0</td>\n",
       "      <td>2020</td>\n",
       "      <td>51</td>\n",
       "      <td>1.1</td>\n",
       "      <td>6</td>\n",
       "      <td>NaN</td>\n",
       "      <td>NaN</td>\n",
       "      <td>NaN</td>\n",
       "      <td>...</td>\n",
       "      <td>22.160000</td>\n",
       "      <td>24.38</td>\n",
       "      <td>27.650000</td>\n",
       "      <td>25.530000</td>\n",
       "      <td>0.571</td>\n",
       "      <td>NaN</td>\n",
       "      <td>NaN</td>\n",
       "      <td>111.0</td>\n",
       "      <td>1.0</td>\n",
       "      <td>0.0</td>\n",
       "    </tr>\n",
       "    <tr>\n",
       "      <th>2020-12-20</th>\n",
       "      <td>76.0</td>\n",
       "      <td>76001</td>\n",
       "      <td>2496442.0</td>\n",
       "      <td>2020</td>\n",
       "      <td>52</td>\n",
       "      <td>82.9</td>\n",
       "      <td>2</td>\n",
       "      <td>NaN</td>\n",
       "      <td>NaN</td>\n",
       "      <td>NaN</td>\n",
       "      <td>...</td>\n",
       "      <td>22.160000</td>\n",
       "      <td>24.38</td>\n",
       "      <td>27.650000</td>\n",
       "      <td>25.530000</td>\n",
       "      <td>0.571</td>\n",
       "      <td>NaN</td>\n",
       "      <td>NaN</td>\n",
       "      <td>121.0</td>\n",
       "      <td>1.0</td>\n",
       "      <td>0.0</td>\n",
       "    </tr>\n",
       "    <tr>\n",
       "      <th>2020-12-27</th>\n",
       "      <td>76.0</td>\n",
       "      <td>76001</td>\n",
       "      <td>2496442.0</td>\n",
       "      <td>2020</td>\n",
       "      <td>53</td>\n",
       "      <td>10.7</td>\n",
       "      <td>2</td>\n",
       "      <td>NaN</td>\n",
       "      <td>NaN</td>\n",
       "      <td>NaN</td>\n",
       "      <td>...</td>\n",
       "      <td>22.160000</td>\n",
       "      <td>24.38</td>\n",
       "      <td>27.650000</td>\n",
       "      <td>25.530000</td>\n",
       "      <td>0.571</td>\n",
       "      <td>NaN</td>\n",
       "      <td>NaN</td>\n",
       "      <td>33.0</td>\n",
       "      <td>2.0</td>\n",
       "      <td>0.0</td>\n",
       "    </tr>\n",
       "  </tbody>\n",
       "</table>\n",
       "<p>748 rows × 26 columns</p>\n",
       "</div>"
      ],
      "text/plain": [
       "            COD_DPTO  COD_MUNICIPIO  POBLACION   ANO  SEMANA  PRECIPITATION  \\\n",
       "FECHA                                                                         \n",
       "2006-09-04      76.0          76001  2144860.0  2006      36            0.0   \n",
       "2006-09-10      76.0          76001  2144860.0  2006      37            0.0   \n",
       "2006-09-17      76.0          76001  2144860.0  2006      38            0.0   \n",
       "2006-09-24      76.0          76001  2144860.0  2006      39            0.0   \n",
       "2006-10-01      76.0          76001  2144860.0  2006      40            0.0   \n",
       "...              ...            ...        ...   ...     ...            ...   \n",
       "2020-11-29      76.0          76001  2496442.0  2020      49           49.4   \n",
       "2020-12-06      76.0          76001  2496442.0  2020      50           12.7   \n",
       "2020-12-13      76.0          76001  2496442.0  2020      51            1.1   \n",
       "2020-12-20      76.0          76001  2496442.0  2020      52           82.9   \n",
       "2020-12-27      76.0          76001  2496442.0  2020      53           10.7   \n",
       "\n",
       "            DRY_DAYS  TEMPERATURE_AMAX  REL_HUMIDITY_AMAX  TEMPERATURE_AMIN  \\\n",
       "FECHA                                                                         \n",
       "2006-09-04         0               NaN                NaN               NaN   \n",
       "2006-09-10         0               NaN                NaN               NaN   \n",
       "2006-09-17         0               NaN                NaN               NaN   \n",
       "2006-09-24         0               NaN                NaN               NaN   \n",
       "2006-10-01         0               NaN                NaN               NaN   \n",
       "...              ...               ...                ...               ...   \n",
       "2020-11-29         1               NaN                NaN               NaN   \n",
       "2020-12-06         4               NaN                NaN               NaN   \n",
       "2020-12-13         6               NaN                NaN               NaN   \n",
       "2020-12-20         2               NaN                NaN               NaN   \n",
       "2020-12-27         2               NaN                NaN               NaN   \n",
       "\n",
       "            ...     SST1+2   SST3       SST4     SST3.4    TNI   CAR   NTA  \\\n",
       "FECHA       ...                                                              \n",
       "2006-09-04  ...  21.430000  25.74  29.400000  27.340000 -0.991  0.26  0.40   \n",
       "2006-09-10  ...  21.430000  25.74  29.400000  27.340000 -0.991  0.26  0.40   \n",
       "2006-09-17  ...  21.430000  25.74  29.400000  27.340000 -0.991  0.26  0.40   \n",
       "2006-09-24  ...  21.430000  25.74  29.400000  27.340000 -0.991  0.26  0.40   \n",
       "2006-10-01  ...  22.220000  25.96  29.440000  27.470000 -1.131  0.25  0.49   \n",
       "...         ...        ...    ...        ...        ...    ...   ...   ...   \n",
       "2020-11-29  ...  21.811429  24.22  27.724286  25.475714  0.455   NaN   NaN   \n",
       "2020-12-06  ...  22.160000  24.38  27.650000  25.530000  0.571   NaN   NaN   \n",
       "2020-12-13  ...  22.160000  24.38  27.650000  25.530000  0.571   NaN   NaN   \n",
       "2020-12-20  ...  22.160000  24.38  27.650000  25.530000  0.571   NaN   NaN   \n",
       "2020-12-27  ...  22.160000  24.38  27.650000  25.530000  0.571   NaN   NaN   \n",
       "\n",
       "            DENGUE  DENGUE GRAVE  MORTALIDAD POR DENGUE  \n",
       "FECHA                                                    \n",
       "2006-09-04     NaN           NaN                    NaN  \n",
       "2006-09-10     NaN           NaN                    NaN  \n",
       "2006-09-17     NaN           NaN                    NaN  \n",
       "2006-09-24     NaN           NaN                    NaN  \n",
       "2006-10-01     NaN           NaN                    NaN  \n",
       "...            ...           ...                    ...  \n",
       "2020-11-29   133.0           2.0                    0.0  \n",
       "2020-12-06   125.0           0.0                    0.0  \n",
       "2020-12-13   111.0           1.0                    0.0  \n",
       "2020-12-20   121.0           1.0                    0.0  \n",
       "2020-12-27    33.0           2.0                    0.0  \n",
       "\n",
       "[748 rows x 26 columns]"
      ]
     },
     "execution_count": 184,
     "metadata": {},
     "output_type": "execute_result"
    }
   ],
   "source": [
    "df = pd.read_csv(\"Semana_6_1y2/cali_consolidado_2006_2020.csv\", index_col = 0)\n",
    "df"
   ]
  },
  {
   "cell_type": "code",
   "execution_count": null,
   "metadata": {},
   "outputs": [],
   "source": []
  },
  {
   "cell_type": "code",
   "execution_count": null,
   "metadata": {},
   "outputs": [],
   "source": []
  },
  {
   "cell_type": "markdown",
   "metadata": {},
   "source": [
    "<center> <h1> Recursos de Pandas </h1> </center>\n",
    "    \n",
    "- https://interactivechaos.com/es/manual/tutorial-de-pandas/tutorial-de-pandas"
   ]
  }
 ],
 "metadata": {
  "celltoolbar": "Slideshow",
  "kernelspec": {
   "display_name": "Python 3",
   "language": "python",
   "name": "python3"
  },
  "language_info": {
   "codemirror_mode": {
    "name": "ipython",
    "version": 3
   },
   "file_extension": ".py",
   "mimetype": "text/x-python",
   "name": "python",
   "nbconvert_exporter": "python",
   "pygments_lexer": "ipython3",
   "version": "3.7.9"
  }
 },
 "nbformat": 4,
 "nbformat_minor": 4
}
