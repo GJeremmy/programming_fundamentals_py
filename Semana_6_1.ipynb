{
 "cells": [
  {
   "cell_type": "markdown",
   "metadata": {
    "slideshow": {
     "slide_type": "slide"
    }
   },
   "source": [
    "<center>\n",
    "<h1> Introducción a la programación con Python </h1>\n",
    "<h2> Alberto Mario Ceballos Arroyo </h2>\n",
    "<h2>Ingeniero de Sistemas </h2> \n",
    "</center>"
   ]
  },
  {
   "cell_type": "markdown",
   "metadata": {
    "slideshow": {
     "slide_type": "slide"
    }
   },
   "source": [
    "<center> <h1> Algunos aspectos metodológicos </h1> </center>\n",
    "\n",
    "- Para participar, preferiblemente escribir por el chat o levantar la mano (somos 150).\n",
    "\n",
    "- Recordemos que el temario está disponible si queremos adelantarnos un poco.\n",
    "\n",
    "- La evaluación es automática y se basa en los retos, el resto de actividades de la plataforma son opcionales pero muy recomendadas."
   ]
  },
  {
   "cell_type": "markdown",
   "metadata": {
    "slideshow": {
     "slide_type": "subslide"
    }
   },
   "source": [
    "<center> <img src=\"img/temario.png\"/> </center>"
   ]
  },
  {
   "cell_type": "markdown",
   "metadata": {
    "slideshow": {
     "slide_type": "subslide"
    }
   },
   "source": [
    "<center> <h1> Agenda de la semana 6 </h1> </center>\n",
    "\n",
    "- Día 1:\n",
    "    - Librerías 1.\n",
    "    \n",
    "- Día 2:\n",
    "    - Librerías 2.\n",
    "    \n",
    "- Día 3:\n",
    "    - Interfaces gráficas."
   ]
  },
  {
   "cell_type": "markdown",
   "metadata": {
    "slideshow": {
     "slide_type": "subslide"
    }
   },
   "source": [
    "<center> <h1> Enlaces de interés </h1> </center>\n",
    "\n",
    "- Enlace de la plataforma: https://lms.misiontic2022udea.com/login\n",
    "\n",
    "- Wiki de Python con muchos recursos en español: https://wiki.python.org/moin/SpanishLanguage\n",
    "\n",
    "- PDF con **muchos** ejercicios: https://www.editorialeidec.com/wp-content/uploads/2020/10/Algoritmos-resueltos-con-Python.pdf\n",
    "\n",
    "- Correo del docente: alceballosa@unal.edu.co \n",
    "\n",
    "- Correo de permanencia: permamenciamisiontic@udea.edu.co\n",
    "\n",
    "- Carpeta del repositorio con muchos ejercicios: https://github.com/alceballosa/programming_fundamentals_py/tree/main/ejercicios\n",
    "\n",
    "- Ejecución interactiva de código Python: http://pythontutor.com/visualize.html#mode=display"
   ]
  },
  {
   "cell_type": "markdown",
   "metadata": {
    "slideshow": {
     "slide_type": "slide"
    }
   },
   "source": [
    "<center> <h1>Librerías</h1> </center>\n",
    "\n",
    "</br>\n",
    "\n",
    "- Las librerías son paquetes desarrollados por profesionales y entusiastas de la comunidad de Python.\n",
    "\n",
    "- Si bien Python por sí solo es un lenguaje bastante poderoso, las librerías nos permiten acelerar nuestro desarrollo de manera considerable.\n",
    "\n",
    "- Algunas librerías que exploraremos: numpy, pandas, matplotlib, scipy."
   ]
  },
  {
   "cell_type": "markdown",
   "metadata": {
    "slideshow": {
     "slide_type": "slide"
    }
   },
   "source": [
    "<center> <h1>Cómo instalar librerías</h1> </center>\n",
    "\n",
    "</br>\n",
    "\n",
    "- Hay dos opciones para instalar librerías: pip y conda.\n",
    "\n",
    "- Una dependencia es una librería que otra librería necesita para funcionar.\n",
    "\n",
    "- Por ejemplo, scipy depende de numpy."
   ]
  },
  {
   "cell_type": "markdown",
   "metadata": {
    "slideshow": {
     "slide_type": "slide"
    }
   },
   "source": [
    "<center> <h1>Instalar librerías con conda</h1> </center>\n",
    "\n",
    "</br>\n",
    "\n",
    "- Hay dos opciones para instalar librerías: pip y conda.\n",
    "\n",
    "- La más sencilla es conda, pues se encarga del manejo de dependencias.\n",
    "\n",
    "- Podemos acceder a una consola habilitada para conda mediante Anaconda Prompt:\n",
    "\n",
    "<center> <img width = \"500\" src=\"img/prompt.png\"></center>"
   ]
  },
  {
   "cell_type": "markdown",
   "metadata": {
    "slideshow": {
     "slide_type": "subslide"
    }
   },
   "source": [
    "<center> <h1>Instalar librerías con conda</h1> </center>\n",
    "\n",
    "- `conda install nombre_del_paquete` <- instala un paquete y sus dependencias\n",
    "- `conda update nombre_del_paquete` <- actualiza un paquete\n",
    "- `conda uninstall nombre_del_paquete` <- actualiza un paquete\n"
   ]
  },
  {
   "cell_type": "markdown",
   "metadata": {
    "slideshow": {
     "slide_type": "subslide"
    }
   },
   "source": [
    "<center> <h1>Uso de librerías</h1> </center>\n",
    "\n",
    "- Al igual que cuando importabamos archivos, para las librerías usamos el comando `import`.\n",
    "- Una vez importamos la librería, podemos acceder a todas sus funciones y clases.\n",
    "- Podemos usar la palabra reservada `as` para darle un alias a cada paquete."
   ]
  },
  {
   "cell_type": "markdown",
   "metadata": {
    "slideshow": {
     "slide_type": "slide"
    }
   },
   "source": [
    "<center> <h1>Numpy</h1> </center>\n",
    "\n",
    "- Librería especializada en cómputo matemático, estadístico y científico."
   ]
  },
  {
   "cell_type": "code",
   "execution_count": null,
   "metadata": {
    "slideshow": {
     "slide_type": "slide"
    }
   },
   "outputs": [],
   "source": [
    "import numpy as np\n"
   ]
  },
  {
   "cell_type": "code",
   "execution_count": null,
   "metadata": {},
   "outputs": [],
   "source": []
  },
  {
   "cell_type": "code",
   "execution_count": null,
   "metadata": {},
   "outputs": [],
   "source": []
  },
  {
   "cell_type": "markdown",
   "metadata": {
    "slideshow": {
     "slide_type": "slide"
    }
   },
   "source": [
    "<center> <h1>Matplotlib</h1> </center>\n",
    "\n",
    "- Librería para visualización de gráficas e imágenes."
   ]
  },
  {
   "cell_type": "code",
   "execution_count": null,
   "metadata": {},
   "outputs": [],
   "source": [
    "import matplotlib.pyplot as plt"
   ]
  },
  {
   "cell_type": "code",
   "execution_count": null,
   "metadata": {},
   "outputs": [],
   "source": []
  },
  {
   "cell_type": "code",
   "execution_count": null,
   "metadata": {},
   "outputs": [],
   "source": []
  },
  {
   "cell_type": "code",
   "execution_count": null,
   "metadata": {},
   "outputs": [],
   "source": []
  }
 ],
 "metadata": {
  "celltoolbar": "Slideshow",
  "kernelspec": {
   "display_name": "Python 3",
   "language": "python",
   "name": "python3"
  },
  "language_info": {
   "codemirror_mode": {
    "name": "ipython",
    "version": 3
   },
   "file_extension": ".py",
   "mimetype": "text/x-python",
   "name": "python",
   "nbconvert_exporter": "python",
   "pygments_lexer": "ipython3",
   "version": "3.7.9"
  }
 },
 "nbformat": 4,
 "nbformat_minor": 4
}
