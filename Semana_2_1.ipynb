{
 "cells": [
  {
   "cell_type": "markdown",
   "metadata": {
    "slideshow": {
     "slide_type": "slide"
    }
   },
   "source": [
    "<center>\n",
    "<h1> Introducción a la programación con Python </h1>\n",
    "<h2> Alberto Mario Ceballos Arroyo </h2>\n",
    "<h2>Ingeniero de Sistemas </h2> \n",
    "</center>"
   ]
  },
  {
   "cell_type": "markdown",
   "metadata": {
    "slideshow": {
     "slide_type": "slide"
    }
   },
   "source": [
    "<center> <h1> Algunos aspectos metodológicos </h1> </center>\n",
    "\n",
    "- Para participar, preferiblemente escribir por el chat o levantar la mano (somos 150).\n",
    "\n",
    "- Recordemos que el temario está disponible si queremos adelantarnos un poco.\n",
    "\n",
    "- La evaluación es automática y se basa en los retos, el resto de actividades de la plataforma son opcionales pero muy recomendadas.\n",
    "\n",
    "- La autoevaluación estará disponible durante los últimos días de la primera semana."
   ]
  },
  {
   "cell_type": "markdown",
   "metadata": {
    "slideshow": {
     "slide_type": "subslide"
    }
   },
   "source": [
    "<center> <img src=\"img/temario.png\"/> </center>"
   ]
  },
  {
   "cell_type": "markdown",
   "metadata": {
    "slideshow": {
     "slide_type": "slide"
    }
   },
   "source": [
    "<center> <h1> Enlaces de interés </h1> </center>\n",
    "\n",
    "- Enlace de la plataforma: https://lms.misiontic2022udea.com/login\n",
    "\n",
    "- Wiki de Python con muchos recursos en español: https://wiki.python.org/moin/SpanishLanguage\n",
    "\n",
    "- Correo del docente: alceballosa@unal.edu.co \n",
    "\n",
    "- Correo de permanencia: permamenciamisiontic@udea.edu.co\n"
   ]
  },
  {
   "cell_type": "markdown",
   "metadata": {
    "slideshow": {
     "slide_type": "slide"
    }
   },
   "source": [
    "<center> <h1> Expresiones lógicas </h1> </center>\n",
    "\n",
    "</br>\n",
    "\n",
    "- Este tipo de expresiones, en esencia, realizan comparaciones. Su valor de retorno siempre es lógico, es decir, de tipo **bool**: verdadero (*True*) o (*Falso*). \n",
    "\n",
    "- Toda expresión lógica puede definire como una sucesión de expresiones lógicas, relacionales o aritméticas conectadas mediante operadores lógicos.\n",
    "\n"
   ]
  },
  {
   "cell_type": "markdown",
   "metadata": {
    "slideshow": {
     "slide_type": "slide"
    }
   },
   "source": [
    "<center> <h1> Operadores relacionales </h1> </center> \n",
    "\n",
    "- Las expresiones relacionales utilizan los siguientes operadores:\n",
    "\n",
    "<style type=\"text/css\">\n",
    ".tg  {border-collapse:collapse;border-spacing:0;}\n",
    ".tg td{border-color:black;border-style:solid;border-width:1px;font-family:Arial, sans-serif;font-size:14px;\n",
    "  overflow:hidden;padding:10px 5px;word-break:normal;}\n",
    ".tg th{border-color:black;border-style:solid;border-width:1px;font-family:Arial, sans-serif;font-size:14px;\n",
    "  font-weight:normal;overflow:hidden;padding:10px 5px;word-break:normal;}\n",
    ".tg .tg-0pky{border-color:inherit;text-align:left;vertical-align:top}\n",
    "</style>\n",
    "<table class=\"tg\">\n",
    "<thead>\n",
    "  <tr>\n",
    "    <th class=\"tg-0pky\">Operador</th>\n",
    "    <th class=\"tg-0pky\">Significado</th>\n",
    "  </tr>\n",
    "</thead>\n",
    "<tbody>\n",
    "  <tr>\n",
    "    <td class=\"tg-0pky\">></td>\n",
    "    <td class=\"tg-0pky\">Mayor que</td>\n",
    "  </tr>\n",
    "  <tr>\n",
    "    <td class=\"tg-0pky\">>= </td>\n",
    "    <td class=\"tg-0pky\">Mayor o igual que</td>\n",
    "  </tr>\n",
    "  <tr>\n",
    "    <td class=\"tg-0pky\"><</td>\n",
    "    <td class=\"tg-0pky\">Menor que</td>\n",
    "  </tr>\n",
    "   <tr>\n",
    "    <td class=\"tg-0pky\"><=</td>\n",
    "    <td class=\"tg-0pky\">Menor o igual que</td>\n",
    "  </tr>\n",
    "  <tr>\n",
    "    <td class=\"tg-0pky\">==</td>\n",
    "    <td class=\"tg-0pky\">Igual que</td>\n",
    "  </tr>\n",
    "  <tr>\n",
    "    <td class=\"tg-0pky\">!=</td>\n",
    "    <td class=\"tg-0pky\">Diferente de</td>\n",
    "  </tr>\n",
    "</tbody>\n",
    "</table>"
   ]
  },
  {
   "cell_type": "code",
   "execution_count": 5,
   "metadata": {
    "slideshow": {
     "slide_type": "subslide"
    }
   },
   "outputs": [
    {
     "name": "stdout",
     "output_type": "stream",
     "text": [
      "True\n",
      "True\n",
      "True\n",
      "False\n",
      "----------\n",
      "True\n",
      "True\n",
      "True\n",
      "False\n"
     ]
    }
   ],
   "source": [
    "#Ejemplos de uso de operadores relacionales\n",
    "\n",
    "a = 40\n",
    "b = 30\n",
    "c = 30\n",
    "d = 80\n",
    "rol = \"estudiante\"\n",
    "\n",
    "print(a > b) #True\n",
    "print(b >= c) #True\n",
    "print(a < d) # True\n",
    "print(40 <= b)#False\n",
    "print(\"----------\")\n",
    "print(30 == c) #True\n",
    "print(rol == \"estudiante\") #True\n",
    "print(rol != \"Estudiante\")  #True\n",
    "print(d != 80) #False"
   ]
  },
  {
   "cell_type": "markdown",
   "metadata": {
    "slideshow": {
     "slide_type": "slide"
    }
   },
   "source": [
    "<center> <h1> Operadores lógicos </h1> </center>\n",
    "\n",
    "- Son los operadores que nos permiten construir expresiones lógicas:\n",
    "\n",
    "| Operador| Significado | \t\n",
    "|-\t|-\t|\n",
    "| or \t| disyunción  \t| \n",
    "| and \t| conjunción\t    |  \n",
    "| not \t   |  negación\t| \n",
    "| ^ \t   | disyunción exclusiva\t|  "
   ]
  },
  {
   "cell_type": "markdown",
   "metadata": {
    "slideshow": {
     "slide_type": "subslide"
    }
   },
   "source": [
    "<center> <h2> Operador relacional OR </h2> </center>\n",
    "\n",
    "| x | y | x or y|  \t\n",
    "|-\t|-\t|-\t|\n",
    "| False \t| False  \t| False \t|  \n",
    "| False \t| True\t    |  True \t|  \t\n",
    "| True \t   |  False\t|  True \t|\n",
    "|True \t   |  True\t|  True \t|  "
   ]
  },
  {
   "cell_type": "markdown",
   "metadata": {
    "slideshow": {
     "slide_type": "subslide"
    }
   },
   "source": [
    "<center> <h2> Operador relacional AND </h2> </center>\n",
    "\n",
    "| x | y | x and y|  \t\n",
    "|-\t|-\t|-\t|\n",
    "| False \t| False  \t| False \t|  \n",
    "| False \t| True\t    |  False \t|  \t\n",
    "| True \t   |  False\t|  False \t|\n",
    "|True \t   |  True\t|  True \t|  "
   ]
  },
  {
   "cell_type": "markdown",
   "metadata": {
    "slideshow": {
     "slide_type": "subslide"
    }
   },
   "source": [
    "<center> <h2> Operador relacional NOT </h2> </center>\n",
    "\n",
    "| x | not x|  \t\n",
    "|-\t|-\t|\n",
    "| False \t| True  \t \t\n",
    "| True \t   |  False\t"
   ]
  },
  {
   "cell_type": "markdown",
   "metadata": {
    "slideshow": {
     "slide_type": "subslide"
    }
   },
   "source": [
    "<center> <h2> Operador relacional XOR </h2> </center>\n",
    "\n",
    "| x | y | x ^ y|  \t\n",
    "|-\t|-\t|-\t|\n",
    "| False \t| False  \t| False \t|  \n",
    "| False \t| True\t    |  True \t|  \t\n",
    "| True \t   |  False\t|  True \t|\n",
    "|True \t   |  True\t|  False \t|  "
   ]
  },
  {
   "cell_type": "markdown",
   "metadata": {
    "slideshow": {
     "slide_type": "slide"
    }
   },
   "source": [
    "<center> <h1> Evaluación de conectores u operadores lógicos </h1> </center>\n",
    "\n",
    "</br>\n",
    "\n",
    "- Prioridad: primero se evalúan las negaciones (not), luego las conjunciones (and) y por último las disyunciones (or).\n",
    "\n",
    "- Asociatividad: operadores consecutivos de la misma prioridad se evalúan de izquierda a derecha en el orden en que aparezcan. Son asociativos por la izquierda.\n"
   ]
  },
  {
   "cell_type": "code",
   "execution_count": null,
   "metadata": {
    "slideshow": {
     "slide_type": "subslide"
    }
   },
   "outputs": [],
   "source": [
    "a = 16\n",
    "b = True\n",
    "c = 4\n",
    "d = 8\n",
    "e = 5\n",
    "\n",
    "print(a > c and e <= d)\n",
    "print(b or (d - e) > a / c)\n",
    "\n",
    "res = not b and c < d or a / d <= e\n",
    "print(res)\n",
    "print(not res)\n"
   ]
  },
  {
   "cell_type": "markdown",
   "metadata": {
    "slideshow": {
     "slide_type": "slide"
    }
   },
   "source": [
    "<center> <h1> Expresiones generales </h1> </center>\n",
    "\n",
    "</br>\n",
    "\n",
    "Una expresión general es una expresión que contiene:\n",
    "\n",
    "- Operadores lógicos\n",
    "- Expresiones relacionales\n",
    "- Expresiones aritméticas"
   ]
  },
  {
   "attachments": {},
   "cell_type": "markdown",
   "metadata": {
    "slideshow": {
     "slide_type": "subslide"
    }
   },
   "source": [
    "<center> <h1> Evaluaciones de expresiones generales </h1> </center>\n",
    "\n",
    "El orden de evaluación de los elementos de una expresión general es el siguiente:\n",
    "\n",
    "1. Expresiones aritméticas\n",
    "2. Expresiones relacionales\n",
    "3. Operadores lógicos\n",
    "\n",
    "Ejemplo:\n",
    "\n",
    "<center> <img src=\"img/sem2_expr.png\"></center>"
   ]
  },
  {
   "cell_type": "code",
   "execution_count": 12,
   "metadata": {
    "slideshow": {
     "slide_type": "subslide"
    }
   },
   "outputs": [],
   "source": [
    "\"\"\"\n",
    "Consideremos los siguientes valores y hagamos el ejercicio completo:\n",
    "\"\"\"\n",
    "\n",
    "a = 3; b = 5; radio = 2; c = 1; q = 10; r = 4   #el ; se puede usar para juntar instrucciones"
   ]
  },
  {
   "cell_type": "code",
   "execution_count": null,
   "metadata": {
    "slideshow": {
     "slide_type": "fragment"
    }
   },
   "outputs": [],
   "source": [
    "#\n"
   ]
  },
  {
   "cell_type": "markdown",
   "metadata": {
    "slideshow": {
     "slide_type": "slide"
    }
   },
   "source": [
    "<center> <h1> Control de flujo en programación </h1> </center>\n",
    "\n",
    "- El flujo es el orden en el que se ejecutan las instrucciones o líneas de código (los renglones de nuestro archivo de texto). En Python, se ejecutan de arriba hacia abajo.\n",
    "\n",
    "- Si no se interrumpe el flujo, las líneas se ejecutarán en orden hasta llegar a la última línea. Como vimos arriba, algunas líneas pueden tener más de una instrucción. En dicho caso, se ejecutan de izquierda a derecha."
   ]
  },
  {
   "cell_type": "code",
   "execution_count": null,
   "metadata": {
    "slideshow": {
     "slide_type": "fragment"
    }
   },
   "outputs": [],
   "source": [
    "valor_1 = 5                #Primera línea\n",
    "valor_2 = 10               #Segunda línea\n",
    "print(valor_1 + valor_2)   #Tercera línea"
   ]
  },
  {
   "cell_type": "markdown",
   "metadata": {
    "slideshow": {
     "slide_type": "slide"
    }
   },
   "source": [
    "<center> <h1> Indentación </h1> </center>\n",
    "\n",
    "- La *indentación* o *sangría* es el espacio en blanco que se coloca al inicio de una línea de código. \n",
    "\n",
    "- El número de espacios en blanco que se usa en Python para representar una indentación es cuatro (4) o una tabulación con la tecla TAB.\n",
    "\n",
    "- El total de indentaciones que tenga una línea se conoce como el *nivel de indentación*.\n",
    "\n",
    "- Un grupo continuo de instrucciones al mismo nivel de indentación mínimo se conoce como un **bloque de código**. \n",
    "\n"
   ]
  },
  {
   "cell_type": "markdown",
   "metadata": {
    "slideshow": {
     "slide_type": "slide"
    }
   },
   "source": [
    "<center> <h1> Instrucciones de decisión: if </h1> </center>\n",
    "\n",
    "</br>\n",
    "\n",
    "- La instrucción **if** a menudo está acompañada por el componente **else**. Esta instrucción le permite a la máquina ejecutar instrucciones determinadas dependiendo del resultado de evaluar una condición."
   ]
  },
  {
   "cell_type": "markdown",
   "metadata": {
    "slideshow": {
     "slide_type": "subslide"
    }
   },
   "source": [
    "<center> <img width=\"500\" src=\"img/sem2_if.png\"></center>\n",
    "\n",
    "Nota: la condición puede ser una expresión relacional o una expresión lógica."
   ]
  },
  {
   "cell_type": "markdown",
   "metadata": {
    "slideshow": {
     "slide_type": "subslide"
    }
   },
   "source": [
    "<center> <h1> Ejercicios con la instrucción if </h1> </center>\n",
    "\n",
    "- Determinar si un número entero entrado por pantalla es divisible por otro número entrado también por pantalla."
   ]
  },
  {
   "cell_type": "code",
   "execution_count": null,
   "metadata": {
    "slideshow": {
     "slide_type": "fragment"
    }
   },
   "outputs": [],
   "source": [
    "#"
   ]
  },
  {
   "cell_type": "markdown",
   "metadata": {
    "slideshow": {
     "slide_type": "subslide"
    }
   },
   "source": [
    "<center> <h1> Ejercicios con la instrucción if </h1> </center>\n",
    "\n",
    "- Leer tres números enteros y determinar si la suma de los dos primeros da el tercero."
   ]
  },
  {
   "cell_type": "code",
   "execution_count": null,
   "metadata": {
    "slideshow": {
     "slide_type": "fragment"
    }
   },
   "outputs": [],
   "source": [
    "#"
   ]
  },
  {
   "cell_type": "markdown",
   "metadata": {
    "slideshow": {
     "slide_type": "subslide"
    }
   },
   "source": [
    "<center> <h1> Ejercicios con la instrucción if </h1> </center>\n",
    "\n",
    "- Leer tres números enteros y determinar si con ellos se puede construir un triángulo o no."
   ]
  },
  {
   "cell_type": "code",
   "execution_count": null,
   "metadata": {
    "slideshow": {
     "slide_type": "fragment"
    }
   },
   "outputs": [],
   "source": [
    "#"
   ]
  },
  {
   "cell_type": "code",
   "execution_count": null,
   "metadata": {},
   "outputs": [],
   "source": []
  },
  {
   "cell_type": "code",
   "execution_count": null,
   "metadata": {},
   "outputs": [],
   "source": []
  },
  {
   "cell_type": "code",
   "execution_count": null,
   "metadata": {},
   "outputs": [],
   "source": []
  }
 ],
 "metadata": {
  "celltoolbar": "Slideshow",
  "kernelspec": {
   "display_name": "Python 3",
   "language": "python",
   "name": "python3"
  },
  "language_info": {
   "codemirror_mode": {
    "name": "ipython",
    "version": 3
   },
   "file_extension": ".py",
   "mimetype": "text/x-python",
   "name": "python",
   "nbconvert_exporter": "python",
   "pygments_lexer": "ipython3",
   "version": "3.7.9"
  }
 },
 "nbformat": 4,
 "nbformat_minor": 4
}
