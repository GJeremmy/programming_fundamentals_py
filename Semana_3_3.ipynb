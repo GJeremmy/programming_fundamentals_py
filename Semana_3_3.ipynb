{
 "cells": [
  {
   "cell_type": "markdown",
   "metadata": {
    "slideshow": {
     "slide_type": "slide"
    }
   },
   "source": [
    "<center>\n",
    "<h1> Introducción a la programación con Python </h1>\n",
    "<h2> Alberto Mario Ceballos Arroyo </h2>\n",
    "<h2>Ingeniero de Sistemas </h2> \n",
    "</center>"
   ]
  },
  {
   "cell_type": "markdown",
   "metadata": {
    "slideshow": {
     "slide_type": "slide"
    }
   },
   "source": [
    "<center> <h1> Algunos aspectos metodológicos </h1> </center>\n",
    "\n",
    "- Para participar, preferiblemente escribir por el chat o levantar la mano (somos 150).\n",
    "\n",
    "- Recordemos que el temario está disponible si queremos adelantarnos un poco.\n",
    "\n",
    "- La evaluación es automática y se basa en los retos, el resto de actividades de la plataforma son opcionales pero muy recomendadas."
   ]
  },
  {
   "cell_type": "markdown",
   "metadata": {
    "slideshow": {
     "slide_type": "subslide"
    }
   },
   "source": [
    "<center> <img src=\"img/temario.png\"/> </center>"
   ]
  },
  {
   "cell_type": "markdown",
   "metadata": {
    "slideshow": {
     "slide_type": "subslide"
    }
   },
   "source": [
    "<center> <h1> Agenda de la semana 3 </h1> </center>\n",
    "\n",
    "- Día 1:\n",
    "    - Subprogramas.\n",
    "    - Motivación.\n",
    "    - Parámetros y variables locales.\n",
    "    - Creación de archivos con subprogramas.\n",
    "    \n",
    "- Día 2:\n",
    "    - Vectores.\n",
    "    \n",
    "- Día 3:\n",
    "    - Programación orientada a objetos."
   ]
  },
  {
   "cell_type": "markdown",
   "metadata": {
    "slideshow": {
     "slide_type": "subslide"
    }
   },
   "source": [
    "<center> <h1> Enlaces de interés </h1> </center>\n",
    "\n",
    "- Enlace de la plataforma: https://lms.misiontic2022udea.com/login\n",
    "\n",
    "- Wiki de Python con muchos recursos en español: https://wiki.python.org/moin/SpanishLanguage\n",
    "\n",
    "- PDF con **muchos** ejercicios: https://www.editorialeidec.com/wp-content/uploads/2020/10/Algoritmos-resueltos-con-Python.pdf\n",
    "\n",
    "- Correo del docente: alceballosa@unal.edu.co \n",
    "\n",
    "- Correo de permanencia: permamenciamisiontic@udea.edu.co\n",
    "\n",
    "- Carpeta del repositorio con muchos ejercicios: https://github.com/alceballosa/programming_fundamentals_py/tree/main/ejercicios\n",
    "\n",
    "- Ejecución interactiva de código Python: http://pythontutor.com/visualize.html#mode=display"
   ]
  },
  {
   "cell_type": "markdown",
   "metadata": {
    "slideshow": {
     "slide_type": "slide"
    }
   },
   "source": [
    "<center> <h1>Programación orientada a objetos (POO)</h1> </center>\n",
    "\n",
    "</br>\n",
    "\n",
    "- Se trata de un paradigma de programación cuyos principales objetivos son simular el funcionamiento del mundo real, brindar un marco de programación coherente y permitir la reutilización del código.\n",
    "\n",
    "- Para hacer programación orientada a objeto se definen y utilizan clases."
   ]
  },
  {
   "cell_type": "markdown",
   "metadata": {
    "slideshow": {
     "slide_type": "slide"
    }
   },
   "source": [
    "<center> <h1>Clases</h1> </center>\n",
    "\n",
    "</br>\n",
    "\n",
    "- Una clase es un artefacto en el cual se define un constructor y las operaciones que se pueden efectuar con los objetos pertenecientes a esa clase (es decir, como una fábrica de objetos de esa categoría).\n",
    "\n",
    "- En el constructor se definen cuáles son elementos que conforman la clase.\n",
    "\n",
    "- Una de las principales cualidades de la POO es que son los objetos los que prevalecen sobre las acciones. Es decir, los objetos ejecutan las acciones."
   ]
  },
  {
   "cell_type": "markdown",
   "metadata": {
    "slideshow": {
     "slide_type": "slide"
    }
   },
   "source": [
    "<center> <h1>Elementos y características de las clases en la POO</h1> </center>\n",
    "\n",
    "Imaginemos que tenemos dos clases: docente y estudiante.\n",
    "\n",
    "</br>\n",
    "\n",
    "- Atributos: son los datos propios de cada objeto que pertenece a una clase. Un ejemplo de atributo del docente y del estudiante es la edad, un ejemplo de atributo del estudiante es el grado. Un ejemplo de atributo del docente es el salario.\n",
    "\n",
    "- Constructor: crea una instancia de la clase e inicializa sus atributos. \n",
    "\n",
    "- Método: cada método es una funcion; son las acciones que puede realizar un objeto perteneciente a una clase."
   ]
  },
  {
   "cell_type": "markdown",
   "metadata": {
    "slideshow": {
     "slide_type": "subslide"
    }
   },
   "source": [
    "- Encapsulamiento: los atributos solo se podrán acceder a través de métodos. Python no obliga a que se cumpla esto, pero es buena práctica cumplir con la norma.\n",
    "\n",
    "- Polimorfismo: un método puede efectuar diferentes tareas dependiendo del tipo de dato que tenga (más relevante en lenguajes como Java).\n",
    "\n",
    "- Herencia: se definen clases derivadas de otra clase, las cuales podrán ejecutar los métodos definidos para la clase base y los que se definan para sí mismas. Por ejemplo: la clase estudiante y docente podrían heredar de la clase persona.\n",
    "\n",
    "Para profundizar en estos conceptos: \n",
    "\n",
    "- https://entrenamiento-python-basico.readthedocs.io/es/latest/leccion9/poo.html\n",
    "- https://www.ecured.cu/Programaci%C3%B3n_Orientada_a_Objetos\n",
    "- https://medium.com/@punitkmr/real-world-examples-for-oop-concepts-abb9475b2095"
   ]
  },
  {
   "cell_type": "code",
   "execution_count": null,
   "metadata": {
    "slideshow": {
     "slide_type": "slide"
    }
   },
   "outputs": [],
   "source": [
    "#La lista en Python es una clase implementada por defecto\n",
    "mi_lista = []\n",
    "mi_lista.append(1)\n",
    "mi_lista.append(4)\n",
    "print(\"Representación de la lista:\", mi_lista)\n",
    "\n",
    "mi_lista.insert(0, 20)\n",
    "print(\"Posición 0 de la lista: \", mi_lista[0])\n",
    "\n",
    "#La longitud se obtiene con la función len,\n",
    "#pues es un atributo privado del objeto.\n",
    "longitud = len(mi_lista)\n",
    "print(\"Longitud de la lista:\", longitud)\n",
    "\n",
    "promedio = sum(mi_lista)/longitud\n",
    "print(\"Promedio de la lista\", promedio)"
   ]
  },
  {
   "cell_type": "code",
   "execution_count": null,
   "metadata": {
    "slideshow": {
     "slide_type": "slide"
    }
   },
   "outputs": [],
   "source": [
    "#Definición de la clase con la palabra reservada class\n",
    "class Estudiante:\n",
    "    #El método init define lo que pasa cuando creamos un obejto de la clase\n",
    "    # y recibe como parámetros los valores que la inicializan.\n",
    "    \n",
    "    #constante\n",
    "    COLEGIO = \"INEM\"\n",
    "    \n",
    "    def __init__(self, nombre, grado):\n",
    "        self.notas = []\n",
    "        self.nombre = nombre\n",
    "        self.grado = grado\n",
    "        \n",
    "    def obtener_notas(self):\n",
    "        return self.notas\n",
    "    \n",
    "    def actualizar_nota(self, id_nota, nueva_nota):\n",
    "        pass\n",
    "    \n",
    "    def obtener_promedio(self):\n",
    "        pass\n",
    "        "
   ]
  },
  {
   "cell_type": "code",
   "execution_count": null,
   "metadata": {
    "slideshow": {
     "slide_type": "subslide"
    }
   },
   "outputs": [],
   "source": [
    "import random\n",
    "\n",
    "class Docente:\n",
    "    def __init__(self, nombre, salario, grados):\n",
    "        self.grados = grados\n",
    "        self.nombre = nombre\n",
    "        self.salario = salario\n",
    "        \n",
    "    def obtener_nombre(self):\n",
    "        return self.nombre\n",
    "    \n",
    "    def obtener_salario():\n",
    "        pass\n",
    "    \n",
    "    def obtener_grados():\n",
    "        pass\n",
    "    \n",
    "    def calificar(self, estudiante):\n",
    "        pass\n",
    "    \n",
    "    def corregir_nota(self, estudiante, id_nota):\n",
    "        pass        "
   ]
  },
  {
   "cell_type": "code",
   "execution_count": null,
   "metadata": {
    "slideshow": {
     "slide_type": "subslide"
    }
   },
   "outputs": [],
   "source": [
    "estudiante1 = Estudiante(\"Juan Carlos\", 11)\n",
    "estudiante2 = Estudiante(\"Ana\", 10)\n",
    "\n",
    "profe = Docente(\"Gloria\",3000000,[9,11])\n",
    "\n",
    "# Más código aquí"
   ]
  },
  {
   "cell_type": "markdown",
   "metadata": {
    "slideshow": {
     "slide_type": "slide"
    }
   },
   "source": [
    "<center> <h1>¿Y si usamos clases y objetos para manejar nuestros vectores?</h1> </center>\n",
    "\n",
    "</br>\n",
    "\n",
    "- En general, para trabajar con un vector necesitamos conocer un arreglo de una dimensión y su tamaño.\n",
    "- Por consiguiente, si necesitamos trabajar con cinco vectores, se requieren cinco arreglos diferentes y cinco variables diferentes, una para cada tamaño.\n",
    "- En POO definimos una clase “vector” y cada objeto de la clase vector tendrá su arreglo y su tamaño.\n",
    "- Es decir, los datos propios del objeto viajan con el objeto, no por separado."
   ]
  },
  {
   "cell_type": "markdown",
   "metadata": {
    "slideshow": {
     "slide_type": "slide"
    }
   },
   "source": [
    "<center> <h1>Bonus: la clase cadena</h1> </center>\n",
    "\n",
    "- Las cadenas son también objetos en Python, y tienen una gran variedad de métodos asociados.\n",
    "- Exploremos un poco con algunos de los métodos que tienen las cadenas:  https://www.bogotobogo.com/python/python_strings_method.php\n"
   ]
  },
  {
   "cell_type": "code",
   "execution_count": null,
   "metadata": {
    "slideshow": {
     "slide_type": "subslide"
    }
   },
   "outputs": [],
   "source": [
    "s = 'Black holes are where God divided by zero'\n",
    "s2 = 'sample.txt'"
   ]
  },
  {
   "cell_type": "code",
   "execution_count": null,
   "metadata": {
    "slideshow": {
     "slide_type": "fragment"
    }
   },
   "outputs": [],
   "source": [
    "s.capitalize()"
   ]
  },
  {
   "cell_type": "code",
   "execution_count": null,
   "metadata": {
    "slideshow": {
     "slide_type": "fragment"
    }
   },
   "outputs": [],
   "source": [
    "s.upper()"
   ]
  },
  {
   "cell_type": "code",
   "execution_count": null,
   "metadata": {
    "slideshow": {
     "slide_type": "fragment"
    }
   },
   "outputs": [],
   "source": [
    "s.center(50,'*')"
   ]
  },
  {
   "cell_type": "code",
   "execution_count": null,
   "metadata": {
    "slideshow": {
     "slide_type": "fragment"
    }
   },
   "outputs": [],
   "source": [
    "s.replace(\"zero\",\"infinity\")"
   ]
  },
  {
   "cell_type": "code",
   "execution_count": null,
   "metadata": {
    "slideshow": {
     "slide_type": "subslide"
    }
   },
   "outputs": [],
   "source": [
    "s.count('i')"
   ]
  },
  {
   "cell_type": "code",
   "execution_count": null,
   "metadata": {
    "slideshow": {
     "slide_type": "fragment"
    }
   },
   "outputs": [],
   "source": [
    "s.count('hole')"
   ]
  },
  {
   "cell_type": "code",
   "execution_count": null,
   "metadata": {
    "slideshow": {
     "slide_type": "fragment"
    }
   },
   "outputs": [],
   "source": [
    "s2.endswith('txt')"
   ]
  },
  {
   "cell_type": "code",
   "execution_count": null,
   "metadata": {
    "slideshow": {
     "slide_type": "subslide"
    }
   },
   "outputs": [],
   "source": [
    "S = 'aaaaaSPYbbbbSPYcccc'\n",
    "where = S.find('SPY')\n",
    "where"
   ]
  },
  {
   "cell_type": "code",
   "execution_count": null,
   "metadata": {
    "slideshow": {
     "slide_type": "fragment"
    }
   },
   "outputs": [],
   "source": [
    "s.index('where')"
   ]
  },
  {
   "cell_type": "code",
   "execution_count": null,
   "metadata": {
    "slideshow": {
     "slide_type": "fragment"
    }
   },
   "outputs": [],
   "source": [
    "'abc'.isalpha()"
   ]
  },
  {
   "cell_type": "code",
   "execution_count": null,
   "metadata": {
    "slideshow": {
     "slide_type": "fragment"
    }
   },
   "outputs": [],
   "source": [
    "'Abc'.islower()"
   ]
  },
  {
   "cell_type": "code",
   "execution_count": null,
   "metadata": {
    "slideshow": {
     "slide_type": "subslide"
    }
   },
   "outputs": [],
   "source": [
    "'ABC'.isupper()"
   ]
  },
  {
   "cell_type": "code",
   "execution_count": null,
   "metadata": {
    "slideshow": {
     "slide_type": "fragment"
    }
   },
   "outputs": [],
   "source": [
    "\"1\".zfill(3)"
   ]
  },
  {
   "cell_type": "code",
   "execution_count": null,
   "metadata": {
    "slideshow": {
     "slide_type": "fragment"
    }
   },
   "outputs": [],
   "source": [
    "\"mis_archivos.py\".split('.')"
   ]
  },
  {
   "cell_type": "code",
   "execution_count": null,
   "metadata": {
    "slideshow": {
     "slide_type": "fragment"
    }
   },
   "outputs": [],
   "source": [
    "\"monty python flying circus\".title()"
   ]
  },
  {
   "cell_type": "code",
   "execution_count": null,
   "metadata": {
    "slideshow": {
     "slide_type": "fragment"
    }
   },
   "outputs": [],
   "source": [
    "cadena_mala = 'eSTO NO DEBERÍA ESTAR ASÍ'\n",
    "cadena_casi_buena = cadena_mala.swapcase()\n",
    "print(cadena_casi_buena)"
   ]
  },
  {
   "cell_type": "code",
   "execution_count": null,
   "metadata": {
    "slideshow": {
     "slide_type": "fragment"
    }
   },
   "outputs": [],
   "source": [
    "cadena_buena = cadena_casi_buena.replace(\"no\",\"sí\")\n",
    "print(cadena_buena)"
   ]
  }
 ],
 "metadata": {
  "celltoolbar": "Slideshow",
  "kernelspec": {
   "display_name": "Python 3",
   "language": "python",
   "name": "python3"
  },
  "language_info": {
   "codemirror_mode": {
    "name": "ipython",
    "version": 3
   },
   "file_extension": ".py",
   "mimetype": "text/x-python",
   "name": "python",
   "nbconvert_exporter": "python",
   "pygments_lexer": "ipython3",
   "version": "3.7.9"
  }
 },
 "nbformat": 4,
 "nbformat_minor": 4
}
