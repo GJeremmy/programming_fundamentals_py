{
 "cells": [
  {
   "cell_type": "markdown",
   "metadata": {
    "slideshow": {
     "slide_type": "slide"
    }
   },
   "source": [
    "<center>\n",
    "<h1> Introducción a la programación con Python </h1>\n",
    "<h2> Alberto Mario Ceballos Arroyo </h2>\n",
    "<h2>Ingeniero de Sistemas </h2> \n",
    "</center>"
   ]
  },
  {
   "cell_type": "markdown",
   "metadata": {
    "slideshow": {
     "slide_type": "slide"
    }
   },
   "source": [
    "<center> <h1> Algunos aspectos metodológicos </h1> </center>\n",
    "\n",
    "- Para participar, preferiblemente escribir por el chat o levantar la mano (somos 150).\n",
    "\n",
    "- Recordemos que el temario está disponible si queremos adelantarnos un poco.\n",
    "\n",
    "- La evaluación es automática y se basa en los retos, el resto de actividades de la plataforma son opcionales pero muy recomendadas."
   ]
  },
  {
   "cell_type": "markdown",
   "metadata": {
    "slideshow": {
     "slide_type": "subslide"
    }
   },
   "source": [
    "<center> <img src=\"img/temario.png\"/> </center>"
   ]
  },
  {
   "cell_type": "markdown",
   "metadata": {
    "slideshow": {
     "slide_type": "subslide"
    }
   },
   "source": [
    "<center> <h1> Agenda de la semana 3 </h1> </center>\n",
    "\n",
    "- Día 1:\n",
    "    - Subprogramas.\n",
    "    - Motivación.\n",
    "    - Parámetros y variables locales.\n",
    "    - Creación de archivos con subprogramas.\n",
    "    \n",
    "- Día 2:\n",
    "    - Vectores.\n",
    "    \n",
    "- Día 3:\n",
    "    - Programación orientada a objetos."
   ]
  },
  {
   "cell_type": "markdown",
   "metadata": {
    "slideshow": {
     "slide_type": "subslide"
    }
   },
   "source": [
    "<center> <h1> Enlaces de interés </h1> </center>\n",
    "\n",
    "- Enlace de la plataforma: https://lms.misiontic2022udea.com/login\n",
    "\n",
    "- Wiki de Python con muchos recursos en español: https://wiki.python.org/moin/SpanishLanguage\n",
    "\n",
    "- PDF con **muchos** ejercicios: https://www.editorialeidec.com/wp-content/uploads/2020/10/Algoritmos-resueltos-con-Python.pdf\n",
    "\n",
    "- Correo del docente: alceballosa@unal.edu.co \n",
    "\n",
    "- Correo de permanencia: permamenciamisiontic@udea.edu.co\n",
    "\n",
    "- Carpeta del repositorio con muchos ejercicios: https://github.com/alceballosa/programming_fundamentals_py/tree/main/ejercicios\n",
    "\n",
    "- Ejecución interactiva de código Python: http://pythontutor.com/visualize.html#mode=display"
   ]
  },
  {
   "cell_type": "markdown",
   "metadata": {
    "slideshow": {
     "slide_type": "slide"
    }
   },
   "source": [
    "<center> <h1>Programación orientada a objetos (POO)</h1> </center>\n",
    "\n",
    "</br>\n",
    "\n",
    "- Se trata de un paradigma de programación cuyos principales objetivos son simular el funcionamiento del mundo real, brindar un marco de programación coherente y permitir la reutilización del código.\n",
    "\n",
    "- Para hacer programación orientada a objetos se definen y utilizan clases."
   ]
  },
  {
   "cell_type": "markdown",
   "metadata": {
    "slideshow": {
     "slide_type": "slide"
    }
   },
   "source": [
    "<center> <h1>Clases</h1> </center>\n",
    "\n",
    "</br>\n",
    "\n",
    "- Una clase es un artefacto en el cual se define un constructor y las operaciones que se pueden efectuar con los objetos pertenecientes a esa clase (es decir, como una fábrica de objetos de esa categoría).\n",
    "\n",
    "- En el constructor se definen cuáles son elementos que conforman la clase.\n",
    "\n",
    "- Una de las principales cualidades de la POO es que son los objetos los que prevalecen sobre las acciones. Es decir, los objetos ejecutan las acciones."
   ]
  },
  {
   "cell_type": "markdown",
   "metadata": {
    "slideshow": {
     "slide_type": "slide"
    }
   },
   "source": [
    "<center> <h1>Elementos y características de las clases en la POO</h1> </center>\n",
    "\n",
    "Imaginemos que tenemos dos clases: docente y estudiante.\n",
    "\n",
    "</br>\n",
    "\n",
    "- Atributos: son los datos propios de cada objeto que pertenece a una clase. Un ejemplo de atributo del docente y del estudiante es la edad, un ejemplo de atributo del estudiante es el grado. Un ejemplo de atributo del docente es el salario.\n",
    "\n",
    "- Constructor: crea una instancia de la clase e inicializa sus atributos. \n",
    "\n",
    "- Método: cada método es una funcion; son las acciones que puede realizar un objeto perteneciente a una clase."
   ]
  },
  {
   "cell_type": "markdown",
   "metadata": {
    "slideshow": {
     "slide_type": "subslide"
    }
   },
   "source": [
    "- Encapsulamiento: los atributos solo se podrán acceder a través de métodos. Python no obliga a que se cumpla esto, pero es buena práctica cumplir con la norma.\n",
    "\n",
    "- Polimorfismo: un método puede efectuar diferentes tareas dependiendo del tipo de dato que tenga (más relevante en lenguajes como Java).\n",
    "\n",
    "- Herencia: se definen clases derivadas de otra clase, las cuales podrán ejecutar los métodos definidos para la clase base y los que se definan para sí mismas. Por ejemplo: la clase estudiante y docente podrían heredar de la clase persona.\n",
    "\n",
    "Para profundizar en estos conceptos: \n",
    "\n",
    "- https://entrenamiento-python-basico.readthedocs.io/es/latest/leccion9/poo.html\n",
    "- https://www.ecured.cu/Programaci%C3%B3n_Orientada_a_Objetos\n",
    "- https://medium.com/@punitkmr/real-world-examples-for-oop-concepts-abb9475b2095"
   ]
  },
  {
   "cell_type": "code",
   "execution_count": 41,
   "metadata": {
    "slideshow": {
     "slide_type": "slide"
    }
   },
   "outputs": [
    {
     "name": "stdout",
     "output_type": "stream",
     "text": [
      "Representación de la lista: [1, 4]\n",
      "Posición 0 de la lista:  20\n",
      "[20, 1, 4]\n",
      "Longitud de la lista: 3\n",
      "Promedio de la lista 8.333333333333334\n"
     ]
    }
   ],
   "source": [
    "#La lista en Python es una clase implementada por defecto\n",
    "mi_lista = []\n",
    "mi_lista.append(1)\n",
    "mi_lista.append(4)\n",
    "print(\"Representación de la lista:\", mi_lista)\n",
    "\n",
    "mi_lista.insert(0, 20)\n",
    "print(\"Posición 0 de la lista: \", mi_lista[0])\n",
    "print(mi_lista)\n",
    "#La longitud se obtiene con la función len,\n",
    "#pues es un atributo privado del objeto.\n",
    "longitud = len(mi_lista) # lo mismo que mi_lista.__len__()\n",
    "print(\"Longitud de la lista:\", longitud)\n",
    "\n",
    "promedio = sum(mi_lista)/longitud\n",
    "print(\"Promedio de la lista\", promedio)"
   ]
  },
  {
   "cell_type": "code",
   "execution_count": 81,
   "metadata": {
    "slideshow": {
     "slide_type": "slide"
    }
   },
   "outputs": [],
   "source": [
    "#Definición de la clase con la palabra reservada class\n",
    "class Estudiante:\n",
    "    #El método init define lo que pasa cuando creamos un obejto de la clase\n",
    "    # y recibe como parámetros los valores que la inicializan.\n",
    "    \n",
    "    #constante\n",
    "    COLEGIO = \"INEM\"\n",
    "    \n",
    "    def __init__(self, nombre, grado):\n",
    "        self.notas = []\n",
    "        self.nombre = nombre\n",
    "        self.grado = grado\n",
    "        \n",
    "    def obtener_nombre(self):\n",
    "        return self.nombre\n",
    "    \n",
    "    def obtener_notas(self):\n",
    "        return self.notas\n",
    "    \n",
    "    def obtener_grado(self):\n",
    "        return self.grado\n",
    "    \n",
    "    def agregar_nota(self, nota):\n",
    "        self.notas.append(nota)\n",
    "    \n",
    "    def actualizar_nota(self, id_nota, nueva_nota):\n",
    "        if id_nota > len(self.notas) - 1:\n",
    "            print(\"Nota inexistente\")\n",
    "        else:\n",
    "            self.notas[id_nota] = nueva_nota\n",
    "    \n",
    "    def obtener_promedio(self):\n",
    "        return sum(self.notas)/len(notas)\n",
    "        "
   ]
  },
  {
   "cell_type": "code",
   "execution_count": 82,
   "metadata": {},
   "outputs": [
    {
     "name": "stdout",
     "output_type": "stream",
     "text": [
      "Pepito\n",
      "[]\n",
      "[3.5]\n",
      "Pablo\n",
      "[]\n",
      "[4.5]\n"
     ]
    }
   ],
   "source": [
    "estu1 = Estudiante(\"Pepito\", 9)\n",
    "print(estu1.obtener_nombre())\n",
    "print(estu1.obtener_notas())\n",
    "estu1.agregar_nota(3.5)\n",
    "print(estu1.obtener_notas())\n",
    "\n",
    "estu2 = Estudiante(\"Pablo\", 11)\n",
    "print(estu2.obtener_nombre())\n",
    "print(estu2.obtener_notas())\n",
    "estu2.agregar_nota(4.5)\n",
    "print(estu2.obtener_notas())"
   ]
  },
  {
   "cell_type": "code",
   "execution_count": 83,
   "metadata": {
    "slideshow": {
     "slide_type": "subslide"
    }
   },
   "outputs": [],
   "source": [
    "import random\n",
    "\n",
    "class Docente:\n",
    "    def __init__(self, nombre, salario, grados):\n",
    "        self.grados = grados\n",
    "        self.nombre = nombre\n",
    "        self.salario = salario\n",
    "        \n",
    "    def obtener_nombre(self):\n",
    "        return self.nombre\n",
    "    \n",
    "    def obtener_salario():\n",
    "        return self.salario\n",
    "    \n",
    "    def obtener_grados():\n",
    "        return self.grados\n",
    "    \n",
    "    def calificar(self, estudiante):\n",
    "        nota = random.randint(1,5)\n",
    "        grado_est = estudiante.obtener_grado()\n",
    "        if grado_est in self.grados:\n",
    "            estudiante.agregar_nota(nota)\n",
    "        else:\n",
    "            print(f\"Sus grados son {self.grados}, no tiene acceso para calificar el grado {grado_est}\")\n",
    "    \n",
    "    def corregir_nota(self, estudiante, id_nota):\n",
    "        nota_nueva = random.randint(1,5)\n",
    "        grado_est = estudiante.obtener_grado()\n",
    "        if grado_est in self.grados:\n",
    "            estudiante.actualizar_nota(id_nota, nota_nueva)\n",
    "        else:\n",
    "            print(f\"Sus grados son {self.grados}, no tiene acceso para calificar el grado {grado_est}\")      "
   ]
  },
  {
   "cell_type": "code",
   "execution_count": 84,
   "metadata": {
    "slideshow": {
     "slide_type": "subslide"
    }
   },
   "outputs": [],
   "source": [
    "estudiante1 = Estudiante(\"Juan Carlos\", 11)\n",
    "estudiante2 = Estudiante(\"Ana\", 10)\n",
    "\n",
    "profe = Docente(\"Gloria\",3000000,[9,11])\n",
    "\n",
    "# Más código aquí"
   ]
  },
  {
   "cell_type": "code",
   "execution_count": 92,
   "metadata": {},
   "outputs": [],
   "source": [
    "profe.calificar(estudiante1)"
   ]
  },
  {
   "cell_type": "code",
   "execution_count": 93,
   "metadata": {},
   "outputs": [
    {
     "data": {
      "text/plain": [
       "[5, 4, 4, 1]"
      ]
     },
     "execution_count": 93,
     "metadata": {},
     "output_type": "execute_result"
    }
   ],
   "source": [
    "estudiante1.obtener_notas()"
   ]
  },
  {
   "cell_type": "code",
   "execution_count": 94,
   "metadata": {},
   "outputs": [
    {
     "name": "stdout",
     "output_type": "stream",
     "text": [
      "[5, 4, 4, 5]\n"
     ]
    }
   ],
   "source": [
    "profe.corregir_nota(estudiante1, 3)\n",
    "print(estudiante1.obtener_notas())"
   ]
  },
  {
   "cell_type": "markdown",
   "metadata": {
    "slideshow": {
     "slide_type": "slide"
    }
   },
   "source": [
    "<center> <h1>¿Y si usamos clases y objetos para manejar nuestros vectores?</h1> </center>\n",
    "\n",
    "</br>\n",
    "\n",
    "- En general, para trabajar con un vector necesitamos conocer un arreglo de una dimensión y su tamaño.\n",
    "- Por consiguiente, si necesitamos trabajar con cinco vectores, se requieren cinco arreglos diferentes y cinco variables diferentes, una para cada tamaño.\n",
    "- En POO definimos una clase “vector” y cada objeto de la clase vector tendrá su arreglo y su tamaño.\n",
    "- Es decir, los datos propios del objeto viajan con el objeto, no por separado."
   ]
  },
  {
   "cell_type": "markdown",
   "metadata": {
    "slideshow": {
     "slide_type": "slide"
    }
   },
   "source": [
    "<center> <h1>Bonus: la clase cadena</h1> </center>\n",
    "\n",
    "- Las cadenas son también objetos en Python, y tienen una gran variedad de métodos asociados.\n",
    "- Exploremos un poco con algunos de los métodos que tienen las cadenas:  https://www.bogotobogo.com/python/python_strings_method.php\n"
   ]
  },
  {
   "cell_type": "code",
   "execution_count": 97,
   "metadata": {
    "slideshow": {
     "slide_type": "subslide"
    }
   },
   "outputs": [],
   "source": [
    "s = 'black holes are where God divided by zero'\n",
    "s2 = 'sample.txt'"
   ]
  },
  {
   "cell_type": "code",
   "execution_count": 98,
   "metadata": {
    "slideshow": {
     "slide_type": "fragment"
    }
   },
   "outputs": [
    {
     "data": {
      "text/plain": [
       "'Black holes are where god divided by zero'"
      ]
     },
     "execution_count": 98,
     "metadata": {},
     "output_type": "execute_result"
    }
   ],
   "source": [
    "s.capitalize()"
   ]
  },
  {
   "cell_type": "code",
   "execution_count": 99,
   "metadata": {
    "slideshow": {
     "slide_type": "fragment"
    }
   },
   "outputs": [
    {
     "data": {
      "text/plain": [
       "'BLACK HOLES ARE WHERE GOD DIVIDED BY ZERO'"
      ]
     },
     "execution_count": 99,
     "metadata": {},
     "output_type": "execute_result"
    }
   ],
   "source": [
    "s.upper()"
   ]
  },
  {
   "cell_type": "code",
   "execution_count": 100,
   "metadata": {
    "slideshow": {
     "slide_type": "fragment"
    }
   },
   "outputs": [
    {
     "data": {
      "text/plain": [
       "'****black holes are where God divided by zero*****'"
      ]
     },
     "execution_count": 100,
     "metadata": {},
     "output_type": "execute_result"
    }
   ],
   "source": [
    "s.center(50,'*')"
   ]
  },
  {
   "cell_type": "code",
   "execution_count": 101,
   "metadata": {
    "slideshow": {
     "slide_type": "fragment"
    }
   },
   "outputs": [
    {
     "data": {
      "text/plain": [
       "'black holes are where God divided by infinity'"
      ]
     },
     "execution_count": 101,
     "metadata": {},
     "output_type": "execute_result"
    }
   ],
   "source": [
    "s.replace(\"zero\",\"infinity\")"
   ]
  },
  {
   "cell_type": "code",
   "execution_count": 102,
   "metadata": {
    "slideshow": {
     "slide_type": "subslide"
    }
   },
   "outputs": [
    {
     "data": {
      "text/plain": [
       "2"
      ]
     },
     "execution_count": 102,
     "metadata": {},
     "output_type": "execute_result"
    }
   ],
   "source": [
    "s.count('i')"
   ]
  },
  {
   "cell_type": "code",
   "execution_count": 103,
   "metadata": {
    "slideshow": {
     "slide_type": "fragment"
    }
   },
   "outputs": [
    {
     "data": {
      "text/plain": [
       "1"
      ]
     },
     "execution_count": 103,
     "metadata": {},
     "output_type": "execute_result"
    }
   ],
   "source": [
    "s.count('hole')"
   ]
  },
  {
   "cell_type": "code",
   "execution_count": 104,
   "metadata": {
    "slideshow": {
     "slide_type": "fragment"
    }
   },
   "outputs": [
    {
     "data": {
      "text/plain": [
       "True"
      ]
     },
     "execution_count": 104,
     "metadata": {},
     "output_type": "execute_result"
    }
   ],
   "source": [
    "s2.endswith('txt')"
   ]
  },
  {
   "cell_type": "code",
   "execution_count": 105,
   "metadata": {
    "slideshow": {
     "slide_type": "subslide"
    }
   },
   "outputs": [
    {
     "data": {
      "text/plain": [
       "5"
      ]
     },
     "execution_count": 105,
     "metadata": {},
     "output_type": "execute_result"
    }
   ],
   "source": [
    "S = 'aaaaaSPYbbbbSPYcccc'\n",
    "where = S.find('SPY')\n",
    "where"
   ]
  },
  {
   "cell_type": "code",
   "execution_count": 106,
   "metadata": {
    "slideshow": {
     "slide_type": "fragment"
    }
   },
   "outputs": [
    {
     "data": {
      "text/plain": [
       "16"
      ]
     },
     "execution_count": 106,
     "metadata": {},
     "output_type": "execute_result"
    }
   ],
   "source": [
    "s.index('where')"
   ]
  },
  {
   "cell_type": "code",
   "execution_count": 107,
   "metadata": {
    "slideshow": {
     "slide_type": "fragment"
    }
   },
   "outputs": [
    {
     "data": {
      "text/plain": [
       "True"
      ]
     },
     "execution_count": 107,
     "metadata": {},
     "output_type": "execute_result"
    }
   ],
   "source": [
    "'abc'.isalpha()"
   ]
  },
  {
   "cell_type": "code",
   "execution_count": 108,
   "metadata": {
    "slideshow": {
     "slide_type": "fragment"
    }
   },
   "outputs": [
    {
     "data": {
      "text/plain": [
       "False"
      ]
     },
     "execution_count": 108,
     "metadata": {},
     "output_type": "execute_result"
    }
   ],
   "source": [
    "'Abc'.islower()"
   ]
  },
  {
   "cell_type": "code",
   "execution_count": 109,
   "metadata": {
    "slideshow": {
     "slide_type": "subslide"
    }
   },
   "outputs": [
    {
     "data": {
      "text/plain": [
       "True"
      ]
     },
     "execution_count": 109,
     "metadata": {},
     "output_type": "execute_result"
    }
   ],
   "source": [
    "'ABC'.isupper()"
   ]
  },
  {
   "cell_type": "code",
   "execution_count": 110,
   "metadata": {
    "slideshow": {
     "slide_type": "fragment"
    }
   },
   "outputs": [
    {
     "data": {
      "text/plain": [
       "'001'"
      ]
     },
     "execution_count": 110,
     "metadata": {},
     "output_type": "execute_result"
    }
   ],
   "source": [
    "\"1\".zfill(3)"
   ]
  },
  {
   "cell_type": "code",
   "execution_count": 111,
   "metadata": {
    "slideshow": {
     "slide_type": "fragment"
    }
   },
   "outputs": [
    {
     "data": {
      "text/plain": [
       "['mis_archivos', 'py']"
      ]
     },
     "execution_count": 111,
     "metadata": {},
     "output_type": "execute_result"
    }
   ],
   "source": [
    "\"mis_archivos.py\".split('.')"
   ]
  },
  {
   "cell_type": "code",
   "execution_count": 112,
   "metadata": {
    "slideshow": {
     "slide_type": "fragment"
    }
   },
   "outputs": [
    {
     "data": {
      "text/plain": [
       "'Monty Python Flying Circus'"
      ]
     },
     "execution_count": 112,
     "metadata": {},
     "output_type": "execute_result"
    }
   ],
   "source": [
    "\"monty python flying circus\".title()"
   ]
  },
  {
   "cell_type": "code",
   "execution_count": 113,
   "metadata": {
    "slideshow": {
     "slide_type": "fragment"
    }
   },
   "outputs": [
    {
     "name": "stdout",
     "output_type": "stream",
     "text": [
      "Esto no debería estar así\n"
     ]
    }
   ],
   "source": [
    "cadena_mala = 'eSTO NO DEBERÍA ESTAR ASÍ'\n",
    "cadena_casi_buena = cadena_mala.swapcase()\n",
    "print(cadena_casi_buena)"
   ]
  },
  {
   "cell_type": "code",
   "execution_count": 114,
   "metadata": {
    "slideshow": {
     "slide_type": "fragment"
    }
   },
   "outputs": [
    {
     "name": "stdout",
     "output_type": "stream",
     "text": [
      "Esto sí debería estar así\n"
     ]
    }
   ],
   "source": [
    "cadena_buena = cadena_casi_buena.replace(\"no\",\"sí\")\n",
    "print(cadena_buena)"
   ]
  },
  {
   "cell_type": "code",
   "execution_count": null,
   "metadata": {},
   "outputs": [],
   "source": []
  }
 ],
 "metadata": {
  "celltoolbar": "Slideshow",
  "kernelspec": {
   "display_name": "Python 3",
   "language": "python",
   "name": "python3"
  },
  "language_info": {
   "codemirror_mode": {
    "name": "ipython",
    "version": 3
   },
   "file_extension": ".py",
   "mimetype": "text/x-python",
   "name": "python",
   "nbconvert_exporter": "python",
   "pygments_lexer": "ipython3",
   "version": "3.7.9"
  }
 },
 "nbformat": 4,
 "nbformat_minor": 4
}
