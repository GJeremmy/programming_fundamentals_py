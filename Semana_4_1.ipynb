{
 "cells": [
  {
   "cell_type": "markdown",
   "metadata": {
    "slideshow": {
     "slide_type": "slide"
    }
   },
   "source": [
    "<center>\n",
    "<h1> Introducción a la programación con Python </h1>\n",
    "<h2> Alberto Mario Ceballos Arroyo </h2>\n",
    "<h2>Ingeniero de Sistemas </h2> \n",
    "</center>"
   ]
  },
  {
   "cell_type": "markdown",
   "metadata": {
    "slideshow": {
     "slide_type": "slide"
    }
   },
   "source": [
    "<center> <h1> Algunos aspectos metodológicos </h1> </center>\n",
    "\n",
    "- Para participar, preferiblemente escribir por el chat o levantar la mano (somos 150).\n",
    "\n",
    "- Recordemos que el temario está disponible si queremos adelantarnos un poco.\n",
    "\n",
    "- La evaluación es automática y se basa en los retos, el resto de actividades de la plataforma son opcionales pero muy recomendadas."
   ]
  },
  {
   "cell_type": "markdown",
   "metadata": {
    "slideshow": {
     "slide_type": "subslide"
    }
   },
   "source": [
    "<center> <img src=\"img/temario.png\"/> </center>"
   ]
  },
  {
   "cell_type": "markdown",
   "metadata": {
    "slideshow": {
     "slide_type": "subslide"
    }
   },
   "source": [
    "<center> <h1> Agenda de la semana 3 </h1> </center>\n",
    "\n",
    "- Día 1:\n",
    "    - Clases derivadas, herencia y polimorfismo.\n",
    "    \n",
    "- Día 2:\n",
    "    - Clase derivada de la clase vector.\n",
    "    \n",
    "- Día 3:\n",
    "    - Análisis de algoritmos."
   ]
  },
  {
   "cell_type": "markdown",
   "metadata": {
    "slideshow": {
     "slide_type": "subslide"
    }
   },
   "source": [
    "<center> <h1> Enlaces de interés </h1> </center>\n",
    "\n",
    "- Enlace de la plataforma: https://lms.misiontic2022udea.com/login\n",
    "\n",
    "- Wiki de Python con muchos recursos en español: https://wiki.python.org/moin/SpanishLanguage\n",
    "\n",
    "- PDF con **muchos** ejercicios: https://www.editorialeidec.com/wp-content/uploads/2020/10/Algoritmos-resueltos-con-Python.pdf\n",
    "\n",
    "- Correo del docente: alceballosa@unal.edu.co \n",
    "\n",
    "- Correo de permanencia: permamenciamisiontic@udea.edu.co\n",
    "\n",
    "- Carpeta del repositorio con muchos ejercicios: https://github.com/alceballosa/programming_fundamentals_py/tree/main/ejercicios\n",
    "\n",
    "- Ejecución interactiva de código Python: http://pythontutor.com/visualize.html#mode=display"
   ]
  },
  {
   "attachments": {},
   "cell_type": "markdown",
   "metadata": {
    "slideshow": {
     "slide_type": "slide"
    }
   },
   "source": [
    "<center> <h1>Herencia y clases derivadas</h1> </center>\n",
    "\n",
    "</br>\n",
    "\n",
    "- La programación orientada a objetos permite definir nuevas clases con base en clases previamente definidas.\n",
    "\n",
    "- La clase original se llama \"clase base\" o \"super clase\"; la clase derivada se denomina \"clase derivada\" o \"subclase\".\n",
    "\n",
    "<center><img width=\"400\" src=\"img/inheritance.png\"></center>\n",
    "\n",
    "https://eng.libretexts.org/Courses/Delta_College/C_-_Data_Structures/01%3A_OOP_Concepts/1.07%3A_OOP_Inheritance"
   ]
  },
  {
   "cell_type": "markdown",
   "metadata": {
    "slideshow": {
     "slide_type": "subslide"
    }
   },
   "source": [
    "<center> <h1>Herencia y clases derivadas</h1> </center>\n",
    "\n",
    "</br>\n",
    "\n",
    "- La principal ventaja es que los objetos pertenecientes a la clase derivada pueden usar los métodos de la clase base. Esta propiedad hace que el desarrollo de la clase derivada sea más eficiente.\n",
    "\n",
    "    - Evita la duplicidad de métodos\n",
    "    - Propicia la reutilización de código\n",
    "    - Facilita el mantenimiento\n",
    "    - Facilita la creación de nuevas aplicaciones\n",
    "    \n",
    "- Esa propiedad de que los objetos de la clase derivada puedan utilizar los métodos definidos en la clase base se denomina herencia."
   ]
  },
  {
   "cell_type": "markdown",
   "metadata": {
    "slideshow": {
     "slide_type": "subslide"
    }
   },
   "source": [
    "<center> <h1>Polimorfismo</h1> </center>\n",
    "\n",
    "</br>\n",
    "\n",
    "- Si una clase derivada tiene definido un método con el mismo nombre que la clase base, al llamar el método se ejecuta el de la clase derivada.\n",
    "\n",
    "- Esto es llamado polimorfismo dinámico.\n"
   ]
  },
  {
   "cell_type": "markdown",
   "metadata": {
    "slideshow": {
     "slide_type": "slide"
    }
   },
   "source": [
    "<center> <h1>Composición</h1> </center>\n",
    "\n",
    "- Adicionalmente diremos que también se definen clases por composición: una clase puede definirse como un conjunto de clases definidas previamente.\n",
    "\n",
    "- Por ejemplo, la clase vehículo se puede definir como un composición de la clase motor, la clase carburador, la clase llanta, etc.\n",
    "\n",
    "- Es importante entonces diferenciar entre lo que es una clase derivada de una clase por composición. **Ojo**, en nuestro curso nos ocuparemos de las clases derivadas.\n",
    "\n",
    "Para profundizar en estos conceptos: \n",
    "\n",
    "https://devexperto.com/herencia-vs-composicion/"
   ]
  },
  {
   "cell_type": "code",
   "execution_count": 4,
   "metadata": {
    "slideshow": {
     "slide_type": "slide"
    }
   },
   "outputs": [],
   "source": [
    "class Lugar:\n",
    "    def __init__(self, nombre, area, coordenadas):\n",
    "        pass\n",
    "\n",
    "    def get_nombre(self):\n",
    "        pass\n",
    "    \n",
    "    def get_area(self):\n",
    "        pass\n",
    "    \n",
    "    def update_area(self, cambio):\n",
    "        pass\n",
    "    \n",
    "    \n",
    "    \n",
    "class Pais(Lugar):\n",
    "    \n",
    "    def __init__(self, nombre, area, coordenadas, presidente):\n",
    "        pass\n",
    "        \n",
    "    def censo(self):\n",
    "        pass\n",
    "    \n",
    "\n",
    "    \n",
    "    \n",
    "class Ciudad(Lugar):\n",
    "    def __init__(self, nombre, area, coordenadas, poblacion, alcalde):\n",
    "        pass\n",
    "    \n",
    "    def censo(self):\n",
    "        pass\n",
    "    \n",
    "    "
   ]
  },
  {
   "cell_type": "code",
   "execution_count": null,
   "metadata": {},
   "outputs": [],
   "source": []
  }
 ],
 "metadata": {
  "celltoolbar": "Slideshow",
  "kernelspec": {
   "display_name": "Python 3",
   "language": "python",
   "name": "python3"
  },
  "language_info": {
   "codemirror_mode": {
    "name": "ipython",
    "version": 3
   },
   "file_extension": ".py",
   "mimetype": "text/x-python",
   "name": "python",
   "nbconvert_exporter": "python",
   "pygments_lexer": "ipython3",
   "version": "3.7.9"
  }
 },
 "nbformat": 4,
 "nbformat_minor": 4
}
